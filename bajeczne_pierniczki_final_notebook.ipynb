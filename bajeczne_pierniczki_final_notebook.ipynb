{
 "cells": [
  {
   "cell_type": "markdown",
   "metadata": {},
   "source": [
    "# LINK TO KAGGLE CONTEST"
   ]
  },
  {
   "cell_type": "markdown",
   "metadata": {},
   "source": [
    "### https://www.kaggle.com/c/ue-data-ninja-otodom-challenge-2020/leaderboard"
   ]
  },
  {
   "cell_type": "markdown",
   "metadata": {},
   "source": [
    "## SOME OF THE DATA IS NOT SHOWN BECAUSE OF THE STANDARD CONTEST RULES"
   ]
  },
  {
   "cell_type": "markdown",
   "metadata": {},
   "source": [
    "### COMMENTS AND DOCUMENTATION IS WRITTEN IN POLISH LANGUAGE"
   ]
  },
  {
   "cell_type": "code",
   "execution_count": null,
   "metadata": {},
   "outputs": [],
   "source": [
    "import os\n",
    "\n",
    "import re\n",
    "import numpy as np\n",
    "import pandas as pd\n",
    "from datetime import datetime \n",
    "from sklearn.preprocessing import StandardScaler\n",
    "\n",
    "\n",
    "import seaborn as sns\n",
    "import matplotlib\n",
    "import matplotlib.pyplot as plt\n",
    "import warnings\n",
    "\n",
    "from tqdm import tqdm\n",
    "tqdm.pandas()\n",
    "\n",
    "from ast import literal_eval\n",
    "\n",
    "from IPython.display import display\n",
    "pd.set_option('display.max_columns', None)\n",
    "\n",
    "from scipy.stats import skew\n",
    "from scipy import stats\n",
    "from scipy.stats.stats import pearsonr\n",
    "from scipy.stats import norm\n",
    "\n",
    "from sklearn.model_selection import GridSearchCV, cross_val_score, learning_curve\n",
    "from sklearn.model_selection import KFold, cross_val_score, train_test_split\n",
    "from sklearn.metrics import mean_squared_error\n",
    "import xgboost as xgb\n",
    "from xgboost import plot_importance\n",
    "\n",
    "warnings.filterwarnings('ignore')\n",
    "sns.set(style='white', context='notebook', palette='deep')\n",
    "%config InlineBackend.figure_format = 'retina' #set 'png' here when working on notebook\n",
    "%matplotlib inline"
   ]
  },
  {
   "cell_type": "markdown",
   "metadata": {},
   "source": [
    "# Etap feature engineering:"
   ]
  },
  {
   "cell_type": "markdown",
   "metadata": {},
   "source": [
    "\n",
    "1. opisz proces tworzenia zbioru treningowego dla modelu,\n",
    "2. przedstaw ostateczny proces przetwarzania danych na przykładzie wybranego zbioru walidacyjnego (wybranego),\n",
    "3. uzasadnij wybrane i stworzone cechy (jak zostały, jak ocenione, jak dokonany został proces redukcji)."
   ]
  },
  {
   "cell_type": "markdown",
   "metadata": {},
   "source": [
    "## PREPROCESSING, DATA MINING, FEATURE ENGINEERING"
   ]
  },
  {
   "cell_type": "markdown",
   "metadata": {},
   "source": [
    "#### Na początku załadujemy pliki csv train, test, districts, citites"
   ]
  },
  {
   "cell_type": "code",
   "execution_count": 5,
   "metadata": {},
   "outputs": [],
   "source": [
    "train = pd.read_csv('train.csv')\n",
    "test = pd.read_csv('test.csv')\n",
    "districts = pd.read_csv('districts.csv')\n",
    "cities = pd.read_csv('cities.csv')"
   ]
  },
  {
   "cell_type": "markdown",
   "metadata": {},
   "source": [
    "#### Przypisujemy do ntrain, ntest ich długość, tak żeby w przy późniejszym łączeniu train i test łatwo było nam rozłączyć te dane."
   ]
  },
  {
   "cell_type": "code",
   "execution_count": 6,
   "metadata": {},
   "outputs": [],
   "source": [
    "ntrain = train.shape[0]\n",
    "ntest = test.shape[0]"
   ]
  },
  {
   "cell_type": "markdown",
   "metadata": {},
   "source": [
    "#### Również wartości cen w pliku 'train' będą niezbędne do wyłączenia. Najlepierw zapisujemy je jako 'y_train' (analogia y do ceny jako zmiennej zależnej nasuwa się sama), a następnie usuwamy z tabeli 'train'"
   ]
  },
  {
   "cell_type": "code",
   "execution_count": 7,
   "metadata": {},
   "outputs": [],
   "source": [
    "y_train = train.price.values"
   ]
  },
  {
   "cell_type": "code",
   "execution_count": 8,
   "metadata": {},
   "outputs": [],
   "source": [
    "train.drop(columns=['price'], inplace=True)"
   ]
  },
  {
   "cell_type": "markdown",
   "metadata": {},
   "source": [
    "sprawdzamy czy ilość kolumn w 'train' oraz 'test' jest taka sama"
   ]
  },
  {
   "cell_type": "code",
   "execution_count": 9,
   "metadata": {},
   "outputs": [
    {
     "name": "stdout",
     "output_type": "stream",
     "text": [
      "Train shape: (832011, 10), test shape: (138136, 10)\n"
     ]
    }
   ],
   "source": [
    "print(f'Train shape: {train.shape}, test shape: {test.shape}')"
   ]
  },
  {
   "cell_type": "markdown",
   "metadata": {},
   "source": [
    "### Łączymy 'train' oraz 'test' i zapisujemy jako 'data'"
   ]
  },
  {
   "cell_type": "code",
   "execution_count": 10,
   "metadata": {},
   "outputs": [],
   "source": [
    "data = pd.concat([train, test], copy=False)"
   ]
  },
  {
   "cell_type": "markdown",
   "metadata": {},
   "source": [
    "### Łączymy 'data' z 'cities' tworząc 'merged'"
   ]
  },
  {
   "cell_type": "code",
   "execution_count": 11,
   "metadata": {},
   "outputs": [],
   "source": [
    "merged = data.merge(cities, how='left', left_on='city_id', right_on='id', copy=False)"
   ]
  },
  {
   "cell_type": "markdown",
   "metadata": {},
   "source": [
    "usuwamy 'id_y', ze względu, iż jest to kopia 'city_id'"
   ]
  },
  {
   "cell_type": "code",
   "execution_count": 12,
   "metadata": {},
   "outputs": [],
   "source": [
    "merged.drop(columns=['id_y'], inplace=True)"
   ]
  },
  {
   "cell_type": "markdown",
   "metadata": {},
   "source": [
    "zmieniamy nazwy przed dołączeniem 'districts'"
   ]
  },
  {
   "cell_type": "code",
   "execution_count": 13,
   "metadata": {},
   "outputs": [],
   "source": [
    "merged.rename(columns={'name_pl':'city_name', 'lon':'city_lon', 'lat':'city_lat'}, inplace=True)"
   ]
  },
  {
   "cell_type": "markdown",
   "metadata": {},
   "source": [
    "### Dołączamy od 'merged' dane interesujące nas dane z 'districts'"
   ]
  },
  {
   "cell_type": "code",
   "execution_count": 14,
   "metadata": {},
   "outputs": [],
   "source": [
    "merged = merged.merge(districts, how='left', left_on='district_id', right_on='id', copy=False)"
   ]
  },
  {
   "cell_type": "markdown",
   "metadata": {},
   "source": [
    "usuwamy 'id', ze względu, iż jest to kopia 'district_id'"
   ]
  },
  {
   "cell_type": "code",
   "execution_count": 15,
   "metadata": {},
   "outputs": [],
   "source": [
    "merged.drop(columns=['id'], inplace=True)"
   ]
  },
  {
   "cell_type": "markdown",
   "metadata": {},
   "source": [
    "zmieniamy nazwy na bardziej jednoznaczne"
   ]
  },
  {
   "cell_type": "code",
   "execution_count": 16,
   "metadata": {},
   "outputs": [],
   "source": [
    "merged.rename(columns={'name_pl':'district_name', 'lon':'district_lon', 'lat':'district_lat'}, inplace=True)"
   ]
  },
  {
   "cell_type": "raw",
   "metadata": {},
   "source": [
    "merged.head(9)"
   ]
  },
  {
   "cell_type": "markdown",
   "metadata": {},
   "source": [
    "# Tworzymy nowe kolumny na podstawie danych z kolumny 'params'"
   ]
  },
  {
   "cell_type": "markdown",
   "metadata": {},
   "source": [
    "Kolumna 'params'została wzięta jako czołowa kolumna, z której wyciągnąć można więcej informacji ze względu, iż jej struktura jest w miarę ustrukturyzowana. "
   ]
  },
  {
   "cell_type": "markdown",
   "metadata": {},
   "source": [
    "W dalszych rozważaniach nie będą brane pod uwagę kolumny 'description' oraz 'title' ze względu na ich chaotyczny charakter. Widzieliśmy potencjał w tych kolumnach w sensie NLP (Natural Language Processing), aczkolwiek z powodu braku czasu, nie zostały podjętę żadne z prób wnioskowania z tych dwóch kolumn."
   ]
  },
  {
   "cell_type": "markdown",
   "metadata": {},
   "source": [
    "#### najpierw stworzona została lista parametrów, które występują w kolumnie 'params'"
   ]
  },
  {
   "cell_type": "code",
   "execution_count": 18,
   "metadata": {},
   "outputs": [],
   "source": [
    "new_cols = list(map(lambda x: x.split('<=>')[0], merged['params'][7].split('<br>')))\n",
    "new_cols.remove('')"
   ]
  },
  {
   "cell_type": "raw",
   "metadata": {
    "scrolled": true
   },
   "source": [
    "new_cols"
   ]
  },
  {
   "cell_type": "markdown",
   "metadata": {},
   "source": [
    "## Parsing kolumny 'params' "
   ]
  },
  {
   "cell_type": "markdown",
   "metadata": {},
   "source": [
    "Krok ten służy do wyciągnięcia dalszych informacji z kolumny 'params' oraz stworzenia nowych kolumn na podstawie tej pierwotnej. Również kolumna 'params' zostanie usunięta gdy już wszystkie informacje zostaną z niej usunięte. Naszym wiądącym Data Framem jest 'merged' natomiast po tym kroku zmieniamy nazwę na tą pierwotną czyli 'data'"
   ]
  },
  {
   "cell_type": "markdown",
   "metadata": {},
   "source": [
    "Data frame 'merged' posiada na ten moment 16 kolumn"
   ]
  },
  {
   "cell_type": "code",
   "execution_count": 20,
   "metadata": {
    "scrolled": true
   },
   "outputs": [
    {
     "data": {
      "text/plain": [
       "(970147, 16)"
      ]
     },
     "execution_count": 20,
     "metadata": {},
     "output_type": "execute_result"
    }
   ],
   "source": [
    "merged.shape"
   ]
  },
  {
   "cell_type": "code",
   "execution_count": 21,
   "metadata": {},
   "outputs": [
    {
     "name": "stdout",
     "output_type": "stream",
     "text": [
      "CPU times: user 31 s, sys: 1.41 s, total: 32.4 s\n",
      "Wall time: 32.4 s\n"
     ]
    }
   ],
   "source": [
    "%%time\n",
    "dicts_of_params = []\n",
    "for params in merged['params']:\n",
    "    dicts_of_params.append({entry[0]: entry[1] if len(entry)>1 else None \n",
    "                             for entry in [i.split('<=>') for i in params.split('<br>')]})\n",
    "\n",
    "params = {col:[params_dict[col] if col in params_dict.keys() else np.NaN for params_dict in dicts_of_params] for col in new_cols}\n",
    "params = {col:[i if i is not '' else np.NaN for i in params[col]] for col in params.keys()}\n",
    "\n",
    "params_df = pd.DataFrame.from_dict(params)\n",
    "data = pd.concat([merged.drop(columns=['params']), params_df], axis=1)\n",
    "del merged"
   ]
  },
  {
   "cell_type": "markdown",
   "metadata": {},
   "source": [
    "Natomiast w tym momencie, po parsingu Data Frame 'data' ('merged' został usunięty) posiada o 26 kolumn więcej "
   ]
  },
  {
   "cell_type": "code",
   "execution_count": 22,
   "metadata": {},
   "outputs": [
    {
     "data": {
      "text/plain": [
       "(970147, 42)"
      ]
     },
     "execution_count": 22,
     "metadata": {},
     "output_type": "execute_result"
    }
   ],
   "source": [
    "data.shape"
   ]
  },
  {
   "cell_type": "raw",
   "metadata": {
    "scrolled": true
   },
   "source": [
    "data.head()"
   ]
  },
  {
   "cell_type": "markdown",
   "metadata": {},
   "source": [
    "Jak wcześniej zostało wspomniane kolumny 'description' oraz 'title' nie będą potrzebne, tak więc można je usunąć."
   ]
  },
  {
   "cell_type": "code",
   "execution_count": 24,
   "metadata": {},
   "outputs": [],
   "source": [
    "data.drop(['description', 'title'], axis = 1, inplace = True)"
   ]
  },
  {
   "cell_type": "markdown",
   "metadata": {},
   "source": [
    "Kolumny 'rent[currency]' oraz 'price[currency]' zostały uznane jako nie wnoszące nic ze względu, iż w przypadku 'price[currency]' nie ma innych niż 'PLN', natomiast w przypadku tej pierwszej kolumna 'rent' zostaje usunięta w dalszej części, tak więc 'rent[currency]' nie wniesie nic do modelu."
   ]
  },
  {
   "cell_type": "code",
   "execution_count": 25,
   "metadata": {},
   "outputs": [
    {
     "data": {
      "text/plain": [
       "0"
      ]
     },
     "execution_count": 25,
     "metadata": {},
     "output_type": "execute_result"
    }
   ],
   "source": [
    "(data['price[currency]'] != 'PLN').sum()"
   ]
  },
  {
   "cell_type": "code",
   "execution_count": 26,
   "metadata": {},
   "outputs": [],
   "source": [
    "data.drop(['rent[currency]'], axis = 1, inplace = True)"
   ]
  },
  {
   "cell_type": "code",
   "execution_count": 27,
   "metadata": {},
   "outputs": [],
   "source": [
    "data.drop(['price[currency]'], axis = 1, inplace = True)"
   ]
  },
  {
   "cell_type": "code",
   "execution_count": 28,
   "metadata": {
    "scrolled": true
   },
   "outputs": [
    {
     "data": {
      "text/plain": [
       "(970147, 38)"
      ]
     },
     "execution_count": 28,
     "metadata": {},
     "output_type": "execute_result"
    }
   ],
   "source": [
    "data.shape"
   ]
  },
  {
   "cell_type": "raw",
   "metadata": {},
   "source": [
    "data.head()"
   ]
  },
  {
   "cell_type": "markdown",
   "metadata": {},
   "source": [
    "# Featrue Engineering ciąg dalszy"
   ]
  },
  {
   "cell_type": "markdown",
   "metadata": {},
   "source": [
    "Zauważalne było, iż w kolumnach 'extras_types', 'media_types', 'security_types', 'heating_types', 'fence_types', 'vicinity_types', 'access_types' znajdują się kolejne informację na temat jednostek. Idąc tym tropem przeprowadziliśmy wszelkie działania, które będą w stanie doprowadzić do momentu, w którym informacje te zostaną przełożone na kolumny zgodnie z techniką 'One Hot Encoding'."
   ]
  },
  {
   "cell_type": "markdown",
   "metadata": {},
   "source": [
    "## Poniżej opisane są wszelakie kroki, który umożliwyły dojście do pożądanego stanu rzeczy"
   ]
  },
  {
   "cell_type": "code",
   "execution_count": 30,
   "metadata": {},
   "outputs": [
    {
     "data": {
      "text/plain": [
       "(970147, 38)"
      ]
     },
     "execution_count": 30,
     "metadata": {},
     "output_type": "execute_result"
    }
   ],
   "source": [
    "data.shape"
   ]
  },
  {
   "cell_type": "markdown",
   "metadata": {},
   "source": [
    "## Krok pierwszy"
   ]
  },
  {
   "cell_type": "markdown",
   "metadata": {},
   "source": [
    "uporządkowanie, tak aby zamienić informacje rozdzielane przez '<->', w pożądanych kolumnach, na listę informacji."
   ]
  },
  {
   "cell_type": "raw",
   "metadata": {},
   "source": [
    "categories= ['extras_types', 'media_types', 'security_types', 'heating_types', 'fence_types', 'vicinity_types', 'access_types']\n",
    "for cat in categories:\n",
    "    data[cat] = data[cat].apply(lambda x: x.split('<->') if isinstance(x, str) else x)\n",
    "    data[cat] = data[cat].apply(lambda x: np.NaN if x == ['0'] else x)\n",
    "data[categories]"
   ]
  },
  {
   "cell_type": "markdown",
   "metadata": {},
   "source": [
    "## Krok drugi"
   ]
  },
  {
   "cell_type": "markdown",
   "metadata": {},
   "source": [
    "1. sprawdzenie typów w tabeli 'data' \n",
    "2. zmiana typów jeśli jest potrzeba\n",
    "3. sprawdznie typów jeszcze raz\n",
    "4. wypełnienie NaN, we wszystkich kolumnach z powyższej listy 'categories' jako listę zawierającą 0\n",
    "5. zamiana wszystkich wartości w tabeli 'data' na 'String' oraz przypisanie tabeli do nowej tabeli o nazwie 'df'"
   ]
  },
  {
   "cell_type": "markdown",
   "metadata": {},
   "source": [
    "# 1"
   ]
  },
  {
   "cell_type": "code",
   "execution_count": 32,
   "metadata": {
    "scrolled": true
   },
   "outputs": [
    {
     "data": {
      "text/plain": [
       "id_x                     int64\n",
       "created_at_first        object\n",
       "category                object\n",
       "is_business              int64\n",
       "district_id            float64\n",
       "city_id                  int64\n",
       "region_id                int64\n",
       "city_name               object\n",
       "city_lon               float64\n",
       "city_lat               float64\n",
       "district_name           object\n",
       "district_lon           float64\n",
       "district_lat           float64\n",
       "terrain_area            object\n",
       "m                       object\n",
       "market                  object\n",
       "rooms_num               object\n",
       "building_type           object\n",
       "floors_num              object\n",
       "building_material       object\n",
       "build_year              object\n",
       "garret_type             object\n",
       "roof_type               object\n",
       "roofing                 object\n",
       "construction_status     object\n",
       "windows_type            object\n",
       "location                object\n",
       "rent                    object\n",
       "free_from               object\n",
       "recreational            object\n",
       "security_types          object\n",
       "fence_types             object\n",
       "heating_types           object\n",
       "media_types             object\n",
       "access_types            object\n",
       "vicinity_types          object\n",
       "extras_types            object\n",
       "is_bungalow             object\n",
       "dtype: object"
      ]
     },
     "execution_count": 32,
     "metadata": {},
     "output_type": "execute_result"
    }
   ],
   "source": [
    "data.dtypes"
   ]
  },
  {
   "cell_type": "markdown",
   "metadata": {},
   "source": [
    "# 2"
   ]
  },
  {
   "cell_type": "code",
   "execution_count": 33,
   "metadata": {},
   "outputs": [],
   "source": [
    "data['build_year'] = data['build_year'].astype(np.float64)\n",
    "data['m'] = data['m'].astype(np.float64)\n",
    "data['terrain_area'] = data['terrain_area'].astype(np.float64)\n",
    "data['is_bungalow'] = data['is_bungalow'].astype(np.float64)"
   ]
  },
  {
   "cell_type": "markdown",
   "metadata": {},
   "source": [
    "# 3"
   ]
  },
  {
   "cell_type": "code",
   "execution_count": 34,
   "metadata": {
    "scrolled": true
   },
   "outputs": [
    {
     "data": {
      "text/plain": [
       "id_x                     int64\n",
       "created_at_first        object\n",
       "category                object\n",
       "is_business              int64\n",
       "district_id            float64\n",
       "city_id                  int64\n",
       "region_id                int64\n",
       "city_name               object\n",
       "city_lon               float64\n",
       "city_lat               float64\n",
       "district_name           object\n",
       "district_lon           float64\n",
       "district_lat           float64\n",
       "terrain_area           float64\n",
       "m                      float64\n",
       "market                  object\n",
       "rooms_num               object\n",
       "building_type           object\n",
       "floors_num              object\n",
       "building_material       object\n",
       "build_year             float64\n",
       "garret_type             object\n",
       "roof_type               object\n",
       "roofing                 object\n",
       "construction_status     object\n",
       "windows_type            object\n",
       "location                object\n",
       "rent                    object\n",
       "free_from               object\n",
       "recreational            object\n",
       "security_types          object\n",
       "fence_types             object\n",
       "heating_types           object\n",
       "media_types             object\n",
       "access_types            object\n",
       "vicinity_types          object\n",
       "extras_types            object\n",
       "is_bungalow            float64\n",
       "dtype: object"
      ]
     },
     "execution_count": 34,
     "metadata": {},
     "output_type": "execute_result"
    }
   ],
   "source": [
    "data.dtypes"
   ]
  },
  {
   "cell_type": "markdown",
   "metadata": {},
   "source": [
    "# 4"
   ]
  },
  {
   "cell_type": "code",
   "execution_count": 35,
   "metadata": {},
   "outputs": [],
   "source": [
    "data['extras_types'] = data['extras_types'].fillna(\"[0]\")\n",
    "\n",
    "data['media_types'] = data['media_types'].fillna(\"[0]\")\n",
    "\n",
    "data['security_types'] = data['security_types'].fillna(\"[0]\")\n",
    "\n",
    "data['heating_types'] = data['heating_types'].fillna(\"[0]\")\n",
    "\n",
    "data['fence_types'] = data['fence_types'].fillna(\"[0]\")\n",
    "\n",
    "data['vicinity_types'] = data['vicinity_types'].fillna(\"[0]\")\n",
    "\n",
    "data['access_types'] = data['access_types'].fillna(\"[0]\")"
   ]
  },
  {
   "cell_type": "markdown",
   "metadata": {},
   "source": [
    "# 5"
   ]
  },
  {
   "cell_type": "code",
   "execution_count": 36,
   "metadata": {},
   "outputs": [],
   "source": [
    "data = data.applymap(str)"
   ]
  },
  {
   "cell_type": "raw",
   "metadata": {},
   "source": [
    "data.head()"
   ]
  },
  {
   "cell_type": "markdown",
   "metadata": {},
   "source": [
    "## Krok trzeci"
   ]
  },
  {
   "cell_type": "markdown",
   "metadata": {},
   "source": [
    "tworzymy funckję, która pozwala na ostateczne rozdzielenie informacji na nowe kolumny "
   ]
  },
  {
   "cell_type": "code",
   "execution_count": 38,
   "metadata": {},
   "outputs": [],
   "source": [
    "def unsplit(colname):\n",
    "    # zainincjowanie tabeli 'data', która znajduje się poza funkcją\n",
    "    global data\n",
    "    # parsowanie listy klumn z pomocą literal_eval z pakietu ast (które są stringami)\n",
    "    sect = data[colname].apply(literal_eval)\n",
    "    # bierzemy unikalne wartości z kolumny 'colname'\n",
    "    seccols = np.unique([s for se in sect for s in se])\n",
    "    # tworzenie one hotowych kolumn z kolumny 'colname'\n",
    "    secarr = np.array([np.in1d(seccols, se) for se in sect])\n",
    "    sectdata = pd.DataFrame(secarr, columns=seccols)\n",
    "    # usunięcie kolumn, z których wyciągnięto dane oraz dołączenie nowych kolumn do tabeli 'data'\n",
    "    data = pd.concat([data.drop(columns=colname), sectdata], axis=1)\n",
    "    # zmiana wartości TRUE/FALSE na 1/0\n",
    "    data = data*1"
   ]
  },
  {
   "cell_type": "code",
   "execution_count": 39,
   "metadata": {},
   "outputs": [
    {
     "name": "stderr",
     "output_type": "stream",
     "text": [
      "100%|██████████| 7/7 [04:54<00:00, 42.01s/it]\n"
     ]
    }
   ],
   "source": [
    "col_to_split = ['extras_types', 'media_types', 'security_types', \n",
    "                'heating_types', 'fence_types', 'vicinity_types', \n",
    "                'access_types']\n",
    "\n",
    "for col in tqdm(col_to_split):\n",
    "    unsplit(col)"
   ]
  },
  {
   "cell_type": "markdown",
   "metadata": {},
   "source": [
    "podczas powyżej przedstawionego procesu usuniętych zostaje 7 kolumn, natomiast dodanych zostaje 61 nowych kolumn, co ostatecznie daje liczbę 98 kolumn"
   ]
  },
  {
   "cell_type": "code",
   "execution_count": 40,
   "metadata": {
    "scrolled": true
   },
   "outputs": [
    {
     "data": {
      "text/plain": [
       "(970147, 98)"
      ]
     },
     "execution_count": 40,
     "metadata": {},
     "output_type": "execute_result"
    }
   ],
   "source": [
    "data.shape"
   ]
  },
  {
   "cell_type": "raw",
   "metadata": {},
   "source": [
    "data.head()"
   ]
  },
  {
   "cell_type": "markdown",
   "metadata": {},
   "source": [
    "powyżej zobaczyć można, iż stworzyło się 7 kolumn o nazwie '0', opuszczamy je i dostajemy ostatecznie 91 kolumn"
   ]
  },
  {
   "cell_type": "code",
   "execution_count": 42,
   "metadata": {
    "scrolled": true
   },
   "outputs": [],
   "source": [
    "data = data.drop(\"0\", axis = 1)"
   ]
  },
  {
   "cell_type": "code",
   "execution_count": 43,
   "metadata": {
    "scrolled": true
   },
   "outputs": [
    {
     "data": {
      "text/plain": [
       "(970147, 91)"
      ]
     },
     "execution_count": 43,
     "metadata": {},
     "output_type": "execute_result"
    }
   ],
   "source": [
    "data.shape"
   ]
  },
  {
   "cell_type": "raw",
   "metadata": {
    "scrolled": true
   },
   "source": [
    "data.head()"
   ]
  },
  {
   "cell_type": "markdown",
   "metadata": {},
   "source": [
    "## Krok czwarty"
   ]
  },
  {
   "cell_type": "markdown",
   "metadata": {},
   "source": [
    "podczas realizacji '5' punktu w 'kroku drugim' 31 kolumn, które zostały poddane transofrmacji, czyli zamienione na 'String' trzeba teraz zamienić z porotem na takie typy jakie były wcześniej"
   ]
  },
  {
   "cell_type": "code",
   "execution_count": 45,
   "metadata": {},
   "outputs": [
    {
     "data": {
      "text/plain": [
       "id_x                   object\n",
       "created_at_first       object\n",
       "category               object\n",
       "is_business            object\n",
       "district_id            object\n",
       "city_id                object\n",
       "region_id              object\n",
       "city_name              object\n",
       "city_lon               object\n",
       "city_lat               object\n",
       "district_name          object\n",
       "district_lon           object\n",
       "district_lat           object\n",
       "terrain_area           object\n",
       "m                      object\n",
       "market                 object\n",
       "rooms_num              object\n",
       "building_type          object\n",
       "floors_num             object\n",
       "building_material      object\n",
       "build_year             object\n",
       "garret_type            object\n",
       "roof_type              object\n",
       "roofing                object\n",
       "construction_status    object\n",
       "windows_type           object\n",
       "location               object\n",
       "rent                   object\n",
       "free_from              object\n",
       "recreational           object\n",
       "is_bungalow            object\n",
       "dtype: object"
      ]
     },
     "execution_count": 45,
     "metadata": {},
     "output_type": "execute_result"
    }
   ],
   "source": [
    "data.dtypes.head(31)"
   ]
  },
  {
   "cell_type": "code",
   "execution_count": 46,
   "metadata": {},
   "outputs": [],
   "source": [
    "data['id_x'] = data['id_x'].astype(np.float64)"
   ]
  },
  {
   "cell_type": "code",
   "execution_count": 47,
   "metadata": {
    "scrolled": true
   },
   "outputs": [
    {
     "data": {
      "text/plain": [
       "dtype('float64')"
      ]
     },
     "execution_count": 47,
     "metadata": {},
     "output_type": "execute_result"
    }
   ],
   "source": [
    "data['id_x'].dtype"
   ]
  },
  {
   "cell_type": "code",
   "execution_count": 48,
   "metadata": {},
   "outputs": [],
   "source": [
    "data['is_business'] = data['is_business'].astype(np.float64)"
   ]
  },
  {
   "cell_type": "code",
   "execution_count": 49,
   "metadata": {},
   "outputs": [
    {
     "data": {
      "text/plain": [
       "dtype('float64')"
      ]
     },
     "execution_count": 49,
     "metadata": {},
     "output_type": "execute_result"
    }
   ],
   "source": [
    "data['is_business'].dtypes"
   ]
  },
  {
   "cell_type": "code",
   "execution_count": 50,
   "metadata": {},
   "outputs": [
    {
     "data": {
      "text/plain": [
       "dtype('float64')"
      ]
     },
     "execution_count": 50,
     "metadata": {},
     "output_type": "execute_result"
    }
   ],
   "source": [
    "data['region_id'] = data['region_id'].astype(np.float64)\n",
    "data['region_id'].dtypes"
   ]
  },
  {
   "cell_type": "code",
   "execution_count": 51,
   "metadata": {},
   "outputs": [
    {
     "data": {
      "text/plain": [
       "dtype('float64')"
      ]
     },
     "execution_count": 51,
     "metadata": {},
     "output_type": "execute_result"
    }
   ],
   "source": [
    "data['city_lon'] = data['city_lon'].astype(np.float64)\n",
    "data['city_lon'].dtypes"
   ]
  },
  {
   "cell_type": "code",
   "execution_count": 52,
   "metadata": {},
   "outputs": [
    {
     "data": {
      "text/plain": [
       "dtype('float64')"
      ]
     },
     "execution_count": 52,
     "metadata": {},
     "output_type": "execute_result"
    }
   ],
   "source": [
    "data['city_lat'] = data['city_lat'].astype(np.float64)\n",
    "data['city_lat'].dtypes"
   ]
  },
  {
   "cell_type": "code",
   "execution_count": 53,
   "metadata": {},
   "outputs": [
    {
     "data": {
      "text/plain": [
       "dtype('float64')"
      ]
     },
     "execution_count": 53,
     "metadata": {},
     "output_type": "execute_result"
    }
   ],
   "source": [
    "data['district_lon'] = data['district_lon'].astype(np.float64)\n",
    "data['district_lon'].dtypes"
   ]
  },
  {
   "cell_type": "code",
   "execution_count": 54,
   "metadata": {},
   "outputs": [
    {
     "data": {
      "text/plain": [
       "dtype('float64')"
      ]
     },
     "execution_count": 54,
     "metadata": {},
     "output_type": "execute_result"
    }
   ],
   "source": [
    "data['district_lat'] = data['district_lat'].astype(np.float64)\n",
    "data['district_lat'].dtypes"
   ]
  },
  {
   "cell_type": "code",
   "execution_count": 55,
   "metadata": {
    "scrolled": true
   },
   "outputs": [
    {
     "data": {
      "text/plain": [
       "dtype('float64')"
      ]
     },
     "execution_count": 55,
     "metadata": {},
     "output_type": "execute_result"
    }
   ],
   "source": [
    "data['terrain_area'] = data['terrain_area'].astype(np.float64)\n",
    "data['terrain_area'].dtypes"
   ]
  },
  {
   "cell_type": "code",
   "execution_count": 56,
   "metadata": {},
   "outputs": [
    {
     "data": {
      "text/plain": [
       "dtype('float64')"
      ]
     },
     "execution_count": 56,
     "metadata": {},
     "output_type": "execute_result"
    }
   ],
   "source": [
    "data['m'] = data['m'].astype(np.float64)\n",
    "data['m'].dtypes"
   ]
  },
  {
   "cell_type": "code",
   "execution_count": 57,
   "metadata": {},
   "outputs": [
    {
     "data": {
      "text/plain": [
       "dtype('float64')"
      ]
     },
     "execution_count": 57,
     "metadata": {},
     "output_type": "execute_result"
    }
   ],
   "source": [
    "data['build_year'] = data['build_year'].astype(np.float64)\n",
    "data['build_year'].dtypes"
   ]
  },
  {
   "cell_type": "code",
   "execution_count": 58,
   "metadata": {},
   "outputs": [
    {
     "data": {
      "text/plain": [
       "dtype('float64')"
      ]
     },
     "execution_count": 58,
     "metadata": {},
     "output_type": "execute_result"
    }
   ],
   "source": [
    "data['is_bungalow'] = data['is_bungalow'].astype(np.float64)\n",
    "data['is_bungalow'].dtypes"
   ]
  },
  {
   "cell_type": "code",
   "execution_count": 59,
   "metadata": {
    "scrolled": true
   },
   "outputs": [
    {
     "data": {
      "text/plain": [
       "id_x                   float64\n",
       "created_at_first        object\n",
       "category                object\n",
       "is_business            float64\n",
       "district_id             object\n",
       "city_id                 object\n",
       "region_id              float64\n",
       "city_name               object\n",
       "city_lon               float64\n",
       "city_lat               float64\n",
       "district_name           object\n",
       "district_lon           float64\n",
       "district_lat           float64\n",
       "terrain_area           float64\n",
       "m                      float64\n",
       "market                  object\n",
       "rooms_num               object\n",
       "building_type           object\n",
       "floors_num              object\n",
       "building_material       object\n",
       "build_year             float64\n",
       "garret_type             object\n",
       "roof_type               object\n",
       "roofing                 object\n",
       "construction_status     object\n",
       "windows_type            object\n",
       "location                object\n",
       "rent                    object\n",
       "free_from               object\n",
       "recreational            object\n",
       "is_bungalow            float64\n",
       "air_conditioning         int64\n",
       "asphalt_access           int64\n",
       "attic                    int64\n",
       "balcony                  int64\n",
       "basement                 int64\n",
       "elevator                 int64\n",
       "furniture                int64\n",
       "garage                   int64\n",
       "garden                   int64\n",
       "heating                  int64\n",
       "lift                     int64\n",
       "parking                  int64\n",
       "pool                     int64\n",
       "separate_kitchen         int64\n",
       "terrace                  int64\n",
       "two_storey               int64\n",
       "usable_room              int64\n",
       "cable-television         int64\n",
       "cable_television         int64\n",
       "cesspool                 int64\n",
       "electricity              int64\n",
       "gas                      int64\n",
       "internet                 int64\n",
       "phone                    int64\n",
       "sewage                   int64\n",
       "water                    int64\n",
       "water_purification       int64\n",
       "alarm                    int64\n",
       "anti_burglary_door       int64\n",
       "dtype: object"
      ]
     },
     "execution_count": 59,
     "metadata": {},
     "output_type": "execute_result"
    }
   ],
   "source": [
    "data.dtypes.head(60)"
   ]
  },
  {
   "cell_type": "markdown",
   "metadata": {},
   "source": [
    "# Feature Engineering ciąg dalszy"
   ]
  },
  {
   "cell_type": "markdown",
   "metadata": {},
   "source": [
    "## Tworzenie zmiennych na podstawie kolumny 'created_at_first'"
   ]
  },
  {
   "cell_type": "markdown",
   "metadata": {},
   "source": [
    "Pomyśleliśmy, że o tyle ile kolumna 'created_at_first' może nie dawać zbyt dużo informacji modelowi, ze względu, iż jest to zmienna typu 'datastamp', o tyle nam pozwoli na stworzenie nowych kolumn. Stworzone kolumny to 'year', która jest rokiem dodania oferty, 'month', czyli miesiąc dodania oferty oraz 'yq' czyli rok wraz z kwartałem."
   ]
  },
  {
   "cell_type": "code",
   "execution_count": 60,
   "metadata": {},
   "outputs": [],
   "source": [
    "data['created_at_first'] = pd.to_datetime(data['created_at_first'])   \n",
    "data['year'] = data.created_at_first.dt.year\n",
    "data['month'] = data.created_at_first.dt.month\n",
    "data['q'] = data.created_at_first.dt.quarter"
   ]
  },
  {
   "cell_type": "code",
   "execution_count": 61,
   "metadata": {},
   "outputs": [],
   "source": [
    "data['year'] = data['year'].astype(str)\n",
    "data['q'] = data['q'].astype(str)"
   ]
  },
  {
   "cell_type": "code",
   "execution_count": 62,
   "metadata": {},
   "outputs": [],
   "source": [
    "data['yq'] = data[['year', 'q']].apply(lambda x:'.'.join(x), axis=1)"
   ]
  },
  {
   "cell_type": "markdown",
   "metadata": {},
   "source": [
    "z perspektywy czasu myślimy, iż rozważanie zmiennych 'year' oraz 'yq' oraz 'month' jako zmienne kategoryczne było by lepszym wyborem"
   ]
  },
  {
   "cell_type": "code",
   "execution_count": 63,
   "metadata": {},
   "outputs": [],
   "source": [
    "data['year'] = data['year'].astype(np.int64)\n",
    "data.drop(['q'], axis=1, inplace=True)\n",
    "data['yq'] = data['yq'].astype(np.float64)"
   ]
  },
  {
   "cell_type": "code",
   "execution_count": 64,
   "metadata": {},
   "outputs": [],
   "source": [
    "data = data.drop(['created_at_first'], axis=1)"
   ]
  },
  {
   "cell_type": "raw",
   "metadata": {},
   "source": [
    "data.head()"
   ]
  },
  {
   "cell_type": "markdown",
   "metadata": {},
   "source": [
    "## Tworzenie zmiennych na podstawie danych geo lokalizacyjnych"
   ]
  },
  {
   "cell_type": "markdown",
   "metadata": {},
   "source": [
    "pomyśleliśmy, iż dobrym pomysłem może być stworznienie nowej zmiennej, która nie tyle da nam informacje geolokalizacyjne, co powie w jakiej odległości (w km), nasza jednostka znajduje się od najbliższego miasta dużego miasta "
   ]
  },
  {
   "cell_type": "markdown",
   "metadata": {},
   "source": [
    "wybraliśmy 18 największych miast polski i napisaliśmy funkcję, która pozwala na określenie odległości (w prostej lini) w km pomiędzy jednym, a drugim punktem (na podstawie długości i szerekości geograficznej)"
   ]
  },
  {
   "cell_type": "markdown",
   "metadata": {},
   "source": [
    "ilość zmiennych przed procesem to 93 kolumny, natomiast po zakończeniu tego procesu powinno być o jedną kolumnę więcej"
   ]
  },
  {
   "cell_type": "code",
   "execution_count": 66,
   "metadata": {},
   "outputs": [
    {
     "data": {
      "text/plain": [
       "(970147, 93)"
      ]
     },
     "execution_count": 66,
     "metadata": {},
     "output_type": "execute_result"
    }
   ],
   "source": [
    "data.shape"
   ]
  },
  {
   "cell_type": "code",
   "execution_count": 67,
   "metadata": {},
   "outputs": [],
   "source": [
    "def what_distance(lat1, lon1, lat2, lon2):\n",
    "   r = 6371\n",
    "   phi1 = np.radians(lat1)\n",
    "   phi2 = np.radians(lat2)\n",
    "   delta_phi = np.radians(lat2 - lat1)\n",
    "   delta_lambda = np.radians(lon2 - lon1)\n",
    "   a = np.sin(delta_phi / 2)**2 + np.cos(phi1) * np.cos(phi2) *   np.sin(delta_lambda / 2)**2\n",
    "   res = r * (2 * np.arctan2(np.sqrt(a), np.sqrt(1 - a)))\n",
    "   return np.round(res, 2)"
   ]
  },
  {
   "cell_type": "markdown",
   "metadata": {},
   "source": [
    "wybrane miasta można by pobierać z tabeli 'data' z kolumn 'city_name', 'city_lat', 'city_lon', aczkolwiek zostało to zrobione w dość powtarzający się sposób i zostało to spowodowane przez:\n",
    "\n",
    "1. Brak doświadczenia z danymi geolokalizacyjnymi śledzenie błędów było łatwiejsze w podejściu zapprezentowanym poniżej\n",
    "2. Ilość miast nie była na tyle duża, żeby różniło się to czasowo od napisania np.: pętli\n",
    "3. Brak czasu zespołu na tesotwanie jednostkowe"
   ]
  },
  {
   "cell_type": "code",
   "execution_count": 68,
   "metadata": {},
   "outputs": [
    {
     "name": "stderr",
     "output_type": "stream",
     "text": [
      "970147it [00:53, 17971.65it/s]\n",
      "970147it [00:55, 17564.91it/s]\n",
      "970147it [00:55, 17471.65it/s]\n",
      "970147it [00:56, 17136.27it/s]\n",
      "970147it [00:54, 17715.75it/s]\n",
      "970147it [00:54, 17657.98it/s]\n",
      "970147it [00:56, 17252.30it/s]\n",
      "970147it [00:56, 17274.89it/s]\n",
      "970147it [00:56, 17153.05it/s]\n",
      "970147it [00:56, 17256.92it/s]\n",
      "970147it [00:55, 17376.89it/s]\n",
      "970147it [00:56, 17096.44it/s]\n",
      "970147it [00:56, 17307.48it/s]\n",
      "970147it [00:56, 17267.56it/s]\n",
      "970147it [00:57, 16826.21it/s]\n",
      "970147it [00:58, 16673.27it/s]\n",
      "970147it [00:59, 16301.24it/s]\n",
      "970147it [00:59, 16236.43it/s]\n"
     ]
    }
   ],
   "source": [
    "# Warszawa\n",
    "\n",
    "start_lat, start_lon = 52.237049, 21.017532\n",
    "\n",
    "distances_km = []\n",
    "for row in tqdm(data.itertuples(index=False)):\n",
    "   distances_km.append(\n",
    "       what_distance(start_lat, start_lon, row.city_lat, row.city_lon)\n",
    "   )\n",
    "\n",
    "data['DistanceFromWWA'] = distances_km\n",
    "\n",
    "\n",
    "# Krakow\n",
    "\n",
    "start_lat, start_lon = 50.049683, 19.944544\n",
    "\n",
    "distances_km = []\n",
    "for row in tqdm(data.itertuples(index=False)):\n",
    "   distances_km.append(\n",
    "       what_distance(start_lat, start_lon, row.city_lat, row.city_lon)\n",
    "   )\n",
    "\n",
    "data['DistanceFromKRK'] = distances_km\n",
    "\n",
    "\n",
    "# Łódź\n",
    "\n",
    "from tqdm import tqdm\n",
    "\n",
    "start_lat, start_lon = 51.759445, 19.457216\n",
    "\n",
    "distances_km = []\n",
    "for row in tqdm(data.itertuples(index=False)):\n",
    "   distances_km.append(\n",
    "       what_distance(start_lat, start_lon, row.city_lat, row.city_lon)\n",
    "   )\n",
    "\n",
    "data['DistanceFromLodz'] = distances_km\n",
    "\n",
    "\n",
    "# Wrocław\n",
    "\n",
    "start_lat, start_lon = 51.107883, 17.038538\n",
    "\n",
    "distances_km = []\n",
    "for row in tqdm(data.itertuples(index=False)):\n",
    "   distances_km.append(\n",
    "       what_distance(start_lat, start_lon, row.city_lat, row.city_lon)\n",
    "   )\n",
    "\n",
    "data['DistanceFromWroclove'] = distances_km\n",
    "\n",
    "\n",
    "# Poznań \n",
    "\n",
    "start_lat, start_lon =  52.409538, 16.931992\n",
    "distances_km = []\n",
    "for row in tqdm(data.itertuples(index=False)):\n",
    "   distances_km.append(\n",
    "       what_distance(start_lat, start_lon, row.city_lat, row.city_lon)\n",
    "   )\n",
    "\n",
    "data['DistanceFromPOZ'] = distances_km\n",
    "\n",
    "\n",
    "# Gdańsk\n",
    "\n",
    "start_lat, start_lon = 54.372158, 18.638306\n",
    "\n",
    "distances_km = []\n",
    "for row in tqdm(data.itertuples(index=False)):\n",
    "   distances_km.append(\n",
    "       what_distance(start_lat, start_lon, row.city_lat, row.city_lon)\n",
    "   )\n",
    "\n",
    "data['DistanceFromGdansk'] = distances_km\n",
    "\n",
    "\n",
    "# Szczecin\n",
    "\n",
    "start_lat, start_lon = 53.428543, 14.552812\n",
    "\n",
    "distances_km = []\n",
    "for row in tqdm(data.itertuples(index=False)):\n",
    "   distances_km.append(\n",
    "       what_distance(start_lat, start_lon, row.city_lat, row.city_lon)\n",
    "   )\n",
    "\n",
    "data['DistanceFromSzczecina'] = distances_km\n",
    "\n",
    "\n",
    "# Bydgoszcz\n",
    "\n",
    "start_lat, start_lon = 53.123482, 18.008438\n",
    "\n",
    "distances_km = []\n",
    "for row in tqdm(data.itertuples(index=False)):\n",
    "   distances_km.append(\n",
    "       what_distance(start_lat, start_lon, row.city_lat, row.city_lon)\n",
    "   )\n",
    "\n",
    "data['DistanceFromBydgoszcz'] = distances_km\n",
    "\n",
    "\n",
    "# Lublin\n",
    "\n",
    "start_lat, start_lon = 51.246452, 22.568445\n",
    "\n",
    "distances_km = []\n",
    "for row in tqdm(data.itertuples(index=False)):\n",
    "   distances_km.append(\n",
    "       what_distance(start_lat, start_lon, row.city_lat, row.city_lon)\n",
    "   )\n",
    "\n",
    "data['DistanceFromLublin'] = distances_km\n",
    "\n",
    "\n",
    "# Białystok\n",
    "\n",
    "start_lat, start_lon = 53.13333, 23.16433\n",
    "\n",
    "distances_km = []\n",
    "for row in tqdm(data.itertuples(index=False)):\n",
    "   distances_km.append(\n",
    "       what_distance(start_lat, start_lon, row.city_lat, row.city_lon)\n",
    "   )\n",
    "\n",
    "data['DistanceFromBStok'] = distances_km\n",
    "\n",
    "\n",
    "# Katowice\n",
    "\n",
    "start_lat, start_lon = 50.270908, 19.039993\n",
    "\n",
    "distances_km = []\n",
    "for row in tqdm(data.itertuples(index=False)):\n",
    "   distances_km.append(\n",
    "       what_distance(start_lat, start_lon, row.city_lat, row.city_lon)\n",
    "   )\n",
    "\n",
    "data['DistanceFromKato'] = distances_km\n",
    "\n",
    "\n",
    "# Gdynia\n",
    "\n",
    "start_lat, start_lon = 54.51889, 18.53188\n",
    "\n",
    "distances_km = []\n",
    "for row in tqdm(data.itertuples(index=False)):\n",
    "   distances_km.append(\n",
    "       what_distance(start_lat, start_lon, row.city_lat, row.city_lon)\n",
    "   )\n",
    "\n",
    "data['DistanceFromGdynia'] = distances_km\n",
    "\n",
    "\n",
    "# Czestochowa\n",
    "\n",
    "start_lat, start_lon = 50.79646, 19.12409\n",
    "\n",
    "distances_km = []\n",
    "for row in tqdm(data.itertuples(index=False)):\n",
    "   distances_km.append(\n",
    "       what_distance(start_lat, start_lon, row.city_lat, row.city_lon)\n",
    "   )\n",
    "\n",
    "data['DistanceFromCzestochowa'] = distances_km\n",
    "\n",
    "\n",
    "# Rzeszow\n",
    "\n",
    "start_lat, start_lon = 50.041187, 21.999121\n",
    "\n",
    "distances_km = []\n",
    "for row in tqdm(data.itertuples(index=False)):\n",
    "   distances_km.append(\n",
    "       what_distance(start_lat, start_lon, row.city_lat, row.city_lon)\n",
    "   )\n",
    "\n",
    "data['DistanceFromRzeszow'] = distances_km\n",
    "\n",
    "\n",
    "# Torun\n",
    "\n",
    "start_lat, start_lon = 53.013790, 18.598444\n",
    "\n",
    "distances_km = []\n",
    "for row in tqdm(data.itertuples(index=False)):\n",
    "   distances_km.append(\n",
    "       what_distance(start_lat, start_lon, row.city_lat, row.city_lon)\n",
    "   )\n",
    "\n",
    "data['DistanceFromTorun'] = distances_km\n",
    "\n",
    "\n",
    "# Olsztyn\n",
    "\n",
    "start_lat, start_lon = 53.770226, 20.490189\n",
    "\n",
    "distances_km = []\n",
    "for row in tqdm(data.itertuples(index=False)):\n",
    "   distances_km.append(\n",
    "       what_distance(start_lat, start_lon, row.city_lat, row.city_lon)\n",
    "   )\n",
    "\n",
    "data['DistanceFromOlsztyn'] = distances_km\n",
    "\n",
    "\n",
    "# ZielonaGora\n",
    "\n",
    "start_lat, start_lon = 51.935619, 15.506186\n",
    "\n",
    "distances_km = []\n",
    "for row in tqdm(data.itertuples(index=False)):\n",
    "   distances_km.append(\n",
    "       what_distance(start_lat, start_lon, row.city_lat, row.city_lon)\n",
    "   )\n",
    "\n",
    "data['DistanceFromZielonaGora'] = distances_km\n",
    "\n",
    "\n",
    "# BielskoBiala\n",
    "\n",
    "start_lat, start_lon = 49.82245, 19.04686\n",
    "\n",
    "distances_km = []\n",
    "for row in tqdm(data.itertuples(index=False)):\n",
    "   distances_km.append(\n",
    "       what_distance(start_lat, start_lon, row.city_lat, row.city_lon)\n",
    "   )\n",
    "\n",
    "data['DistanceFromBielskoBiala'] = distances_km"
   ]
  },
  {
   "cell_type": "raw",
   "metadata": {},
   "source": [
    "data.head()"
   ]
  },
  {
   "cell_type": "markdown",
   "metadata": {},
   "source": [
    "### Z nowow stworzonych 18 kolumn twrozymy nową, 19 kolumnę 'closest_city', która zawiera informacje o odległości (w km) do najbliższego dużego miasta (z listy 18 wybranych miast)"
   ]
  },
  {
   "cell_type": "code",
   "execution_count": 70,
   "metadata": {},
   "outputs": [],
   "source": [
    "### Creating column 'closest_city'\n",
    "data['closest_city'] = data[['DistanceFromWWA',\n",
    "       'DistanceFromKRK', 'DistanceFromLodz', 'DistanceFromWroclove',\n",
    "       'DistanceFromPOZ', 'DistanceFromGdansk', 'DistanceFromSzczecina',\n",
    "       'DistanceFromBydgoszcz', 'DistanceFromLublin', 'DistanceFromBStok',\n",
    "       'DistanceFromKato', 'DistanceFromGdynia', 'DistanceFromCzestochowa',\n",
    "       'DistanceFromRzeszow', 'DistanceFromTorun', 'DistanceFromOlsztyn',\n",
    "       'DistanceFromZielonaGora', 'DistanceFromBielskoBiala']].min(axis = 1)"
   ]
  },
  {
   "cell_type": "markdown",
   "metadata": {},
   "source": [
    "#### usuwamy 18 kolumn, które nie będą już nam potrzebne"
   ]
  },
  {
   "cell_type": "code",
   "execution_count": 71,
   "metadata": {},
   "outputs": [],
   "source": [
    "### droping useless columns\n",
    "\n",
    "data.drop(['DistanceFromWWA',\n",
    "       'DistanceFromKRK', 'DistanceFromLodz', 'DistanceFromWroclove',\n",
    "       'DistanceFromPOZ', 'DistanceFromGdansk', 'DistanceFromSzczecina',\n",
    "       'DistanceFromBydgoszcz', 'DistanceFromLublin', 'DistanceFromBStok',\n",
    "       'DistanceFromKato', 'DistanceFromGdynia', 'DistanceFromCzestochowa',\n",
    "       'DistanceFromRzeszow', 'DistanceFromTorun', 'DistanceFromOlsztyn',\n",
    "       'DistanceFromZielonaGora', 'DistanceFromBielskoBiala'], axis = 1, inplace=True)"
   ]
  },
  {
   "cell_type": "code",
   "execution_count": 72,
   "metadata": {
    "scrolled": true
   },
   "outputs": [
    {
     "data": {
      "text/plain": [
       "(970147, 94)"
      ]
     },
     "execution_count": 72,
     "metadata": {},
     "output_type": "execute_result"
    }
   ],
   "source": [
    "data.shape"
   ]
  },
  {
   "cell_type": "raw",
   "metadata": {},
   "source": [
    "data.head()"
   ]
  },
  {
   "cell_type": "markdown",
   "metadata": {},
   "source": [
    "#### zmieniamy nazwę kolumny id_x na id"
   ]
  },
  {
   "cell_type": "code",
   "execution_count": 74,
   "metadata": {},
   "outputs": [],
   "source": [
    "data = data.rename(columns={'id_x':'id'})"
   ]
  },
  {
   "cell_type": "markdown",
   "metadata": {},
   "source": [
    "# Rozdzielanie 'data' na 'train' oraz 'test'"
   ]
  },
  {
   "cell_type": "markdown",
   "metadata": {},
   "source": [
    "teraz trzeba rozdzielić 'data' na 'train' oraz 'test' za pomocą wcześniej stworzonych 'ntrain' oraz 'ntest'"
   ]
  },
  {
   "cell_type": "code",
   "execution_count": 180,
   "metadata": {},
   "outputs": [],
   "source": [
    "train = data[:ntrain]\n",
    "test = data[ntrain:]"
   ]
  },
  {
   "cell_type": "markdown",
   "metadata": {},
   "source": [
    "sprawdzmy czy ilość kolumn w przypadku 'train' oraz 'test' jest jednakowa"
   ]
  },
  {
   "cell_type": "code",
   "execution_count": 181,
   "metadata": {},
   "outputs": [
    {
     "data": {
      "text/plain": [
       "True"
      ]
     },
     "execution_count": 181,
     "metadata": {},
     "output_type": "execute_result"
    }
   ],
   "source": [
    "train.shape[1] == test.shape[1]"
   ]
  },
  {
   "cell_type": "markdown",
   "metadata": {},
   "source": [
    "sprawdzamy czy w 'y_train' nie wkradły się jakieś puste wartości"
   ]
  },
  {
   "cell_type": "code",
   "execution_count": 182,
   "metadata": {},
   "outputs": [
    {
     "data": {
      "text/plain": [
       "True"
      ]
     },
     "execution_count": 182,
     "metadata": {},
     "output_type": "execute_result"
    }
   ],
   "source": [
    "np.count_nonzero(~np.isnan(y_train)) == y_train.shape[0]"
   ]
  },
  {
   "cell_type": "markdown",
   "metadata": {},
   "source": [
    "dołączamy 'y_train', czyli wektor cen do 'train'"
   ]
  },
  {
   "cell_type": "code",
   "execution_count": 183,
   "metadata": {},
   "outputs": [],
   "source": [
    "train = pd.concat([train, pd.DataFrame(columns=['price'], data=y_train)], axis=1)"
   ]
  },
  {
   "cell_type": "markdown",
   "metadata": {},
   "source": [
    "sprawdzmy ostateczne wymiary 'train' oraz 'test'"
   ]
  },
  {
   "cell_type": "code",
   "execution_count": 184,
   "metadata": {},
   "outputs": [
    {
     "data": {
      "text/plain": [
       "True"
      ]
     },
     "execution_count": 184,
     "metadata": {},
     "output_type": "execute_result"
    }
   ],
   "source": [
    "train.shape[1] - 1 == test.shape[1]"
   ]
  },
  {
   "cell_type": "code",
   "execution_count": 185,
   "metadata": {},
   "outputs": [
    {
     "name": "stdout",
     "output_type": "stream",
     "text": [
      "Train shape: (832011, 95), test shape: (138136, 94)\n"
     ]
    }
   ],
   "source": [
    "print(f'Train shape: {train.shape}, test shape: {test.shape}')"
   ]
  },
  {
   "cell_type": "code",
   "execution_count": 186,
   "metadata": {},
   "outputs": [],
   "source": [
    "train = pd.read_csv('trainF_31_05.csv')"
   ]
  },
  {
   "cell_type": "code",
   "execution_count": 187,
   "metadata": {},
   "outputs": [],
   "source": [
    "test = pd.read_csv('testF_31_05.csv')"
   ]
  },
  {
   "cell_type": "code",
   "execution_count": 188,
   "metadata": {},
   "outputs": [
    {
     "data": {
      "text/plain": [
       "True"
      ]
     },
     "execution_count": 188,
     "metadata": {},
     "output_type": "execute_result"
    }
   ],
   "source": [
    "train.shape[1] - 1 == test.shape[1]"
   ]
  },
  {
   "cell_type": "markdown",
   "metadata": {},
   "source": [
    "# Dalsza część feature engineering różni się przede wszystkim tym, iż ogłoszenia rozdzielane zostają na DOMY oraz MIESZKANIA"
   ]
  },
  {
   "cell_type": "markdown",
   "metadata": {},
   "source": [
    "decyzja ta została podjęta ze względu, iż mieszkania oraz domy posiadają, w niektórych przypadakch różne zmienne, które decydują o ich cenie (np.: w przyapdku mieszkań nie posiadamy zmiennej takiej jak 'terrain_area', etc.). Mieszkania oraz domy posiadają różne ceny, według nas są to zupełnie inne przypadki do rozważenia dlatego też dalsze analizy są rozdzielone na domy oraz mieskania."
   ]
  },
  {
   "cell_type": "markdown",
   "metadata": {},
   "source": [
    "przy opisywaniu modelu skupiliśmy się na opisie modelu dla domów, aczkolwiek opis modelu dla mieszkań ma się analogicznie jak do domów"
   ]
  },
  {
   "cell_type": "markdown",
   "metadata": {},
   "source": [
    "## DOMY"
   ]
  },
  {
   "cell_type": "markdown",
   "metadata": {},
   "source": [
    "### Przypisanie 'train' oraz 'test' do ogłoszeń odnoszących się do domów, jako 'test_d' oraz 'train_d'"
   ]
  },
  {
   "cell_type": "code",
   "execution_count": 189,
   "metadata": {},
   "outputs": [],
   "source": [
    "train_d = train[train['category']=='Dom na sprzedaż']\n",
    "test_d = test[test['category']=='Dom na sprzedaż']"
   ]
  },
  {
   "cell_type": "code",
   "execution_count": 190,
   "metadata": {},
   "outputs": [],
   "source": [
    "# Save the 'Id' column\n",
    "train_d_ID = train_d['id']\n",
    "test_d_ID = test_d['id']"
   ]
  },
  {
   "cell_type": "code",
   "execution_count": 191,
   "metadata": {},
   "outputs": [
    {
     "name": "stdout",
     "output_type": "stream",
     "text": [
      "\n",
      "The train_d data size after dropping category feature is : (177170, 95) \n",
      "The test_d data size after dropping category feature is : (26885, 94) \n"
     ]
    }
   ],
   "source": [
    "print(\"\\nThe train_d data size after dropping category feature is : {} \".format(train_d.shape)) \n",
    "print(\"The test_d data size after dropping category feature is : {} \".format(test_d.shape))"
   ]
  },
  {
   "cell_type": "markdown",
   "metadata": {},
   "source": [
    "ze względu, iż kolumna 'category' nie będzie już potrzbena można ją usnąć, rownież w przypadku pozozstałych dwóch kolumn, które róznią się wartościami, a powinny być tą samą wartością postanowiliśmy usunąć te kolumny ze zględu na brak informacji o poprawności choćby jednej z nich"
   ]
  },
  {
   "cell_type": "code",
   "execution_count": 192,
   "metadata": {},
   "outputs": [],
   "source": [
    "train_d = train_d.drop(['category', \n",
    "                    'cable_television', 'cable-television'], axis=1)"
   ]
  },
  {
   "cell_type": "code",
   "execution_count": 193,
   "metadata": {},
   "outputs": [],
   "source": [
    "test_d = test_d.drop(['category',\n",
    "                  'cable_television', 'cable-television'], axis=1)"
   ]
  },
  {
   "cell_type": "markdown",
   "metadata": {},
   "source": [
    "#### W kolejnym korku połączymy nasz 'test' oraz 'train' w celu usunięcia kolumn o bardzo dużej zawartości pustych wartości, następnię wierszy z wartościami ekstrymalnymi, które mogą spowodować błędy w logice modelu "
   ]
  },
  {
   "cell_type": "code",
   "execution_count": 194,
   "metadata": {},
   "outputs": [
    {
     "name": "stdout",
     "output_type": "stream",
     "text": [
      "(177170,)\n",
      "train_d data size is : (177170, 92)\n",
      "test_d data size is : (26885, 91)\n",
      "Combined dataset size is : (204055, 91)\n"
     ]
    }
   ],
   "source": [
    "ntrain_d = train_d.shape[0]\n",
    "ntest_d = test_d.shape[0]\n",
    "y_train_d = train_d.price.values\n",
    "print(y_train_d.shape)\n",
    "all_data = pd.concat((train_d, test_d)).reset_index(drop=True)\n",
    "all_data.drop(['price'], axis=1, inplace=True)\n",
    "print(\"train_d data size is : {}\".format(train_d.shape))\n",
    "print(\"test_d data size is : {}\".format(test_d.shape))\n",
    "print(\"Combined dataset size is : {}\".format(all_data.shape))"
   ]
  },
  {
   "cell_type": "code",
   "execution_count": 195,
   "metadata": {
    "scrolled": true
   },
   "outputs": [
    {
     "data": {
      "text/html": [
       "<div>\n",
       "<style scoped>\n",
       "    .dataframe tbody tr th:only-of-type {\n",
       "        vertical-align: middle;\n",
       "    }\n",
       "\n",
       "    .dataframe tbody tr th {\n",
       "        vertical-align: top;\n",
       "    }\n",
       "\n",
       "    .dataframe thead th {\n",
       "        text-align: right;\n",
       "    }\n",
       "</style>\n",
       "<table border=\"1\" class=\"dataframe\">\n",
       "  <thead>\n",
       "    <tr style=\"text-align: right;\">\n",
       "      <th></th>\n",
       "      <th>Missing Ratio</th>\n",
       "    </tr>\n",
       "  </thead>\n",
       "  <tbody>\n",
       "    <tr>\n",
       "      <th>rent</th>\n",
       "      <td>97.948592</td>\n",
       "    </tr>\n",
       "    <tr>\n",
       "      <th>free_from</th>\n",
       "      <td>84.433609</td>\n",
       "    </tr>\n",
       "    <tr>\n",
       "      <th>district_id</th>\n",
       "      <td>74.578913</td>\n",
       "    </tr>\n",
       "    <tr>\n",
       "      <th>district_lat</th>\n",
       "      <td>74.578913</td>\n",
       "    </tr>\n",
       "    <tr>\n",
       "      <th>district_name</th>\n",
       "      <td>74.578913</td>\n",
       "    </tr>\n",
       "    <tr>\n",
       "      <th>district_lon</th>\n",
       "      <td>74.578913</td>\n",
       "    </tr>\n",
       "    <tr>\n",
       "      <th>garret_type</th>\n",
       "      <td>68.499179</td>\n",
       "    </tr>\n",
       "    <tr>\n",
       "      <th>location</th>\n",
       "      <td>68.351670</td>\n",
       "    </tr>\n",
       "    <tr>\n",
       "      <th>roof_type</th>\n",
       "      <td>60.937492</td>\n",
       "    </tr>\n",
       "    <tr>\n",
       "      <th>recreational</th>\n",
       "      <td>58.799343</td>\n",
       "    </tr>\n",
       "    <tr>\n",
       "      <th>roofing</th>\n",
       "      <td>47.474455</td>\n",
       "    </tr>\n",
       "    <tr>\n",
       "      <th>building_material</th>\n",
       "      <td>38.699370</td>\n",
       "    </tr>\n",
       "    <tr>\n",
       "      <th>windows_type</th>\n",
       "      <td>33.292985</td>\n",
       "    </tr>\n",
       "    <tr>\n",
       "      <th>construction_status</th>\n",
       "      <td>28.353630</td>\n",
       "    </tr>\n",
       "    <tr>\n",
       "      <th>build_year</th>\n",
       "      <td>26.217441</td>\n",
       "    </tr>\n",
       "    <tr>\n",
       "      <th>floors_num</th>\n",
       "      <td>20.528779</td>\n",
       "    </tr>\n",
       "    <tr>\n",
       "      <th>building_type</th>\n",
       "      <td>15.018010</td>\n",
       "    </tr>\n",
       "    <tr>\n",
       "      <th>terrain_area</th>\n",
       "      <td>3.553454</td>\n",
       "    </tr>\n",
       "    <tr>\n",
       "      <th>rooms_num</th>\n",
       "      <td>0.139178</td>\n",
       "    </tr>\n",
       "    <tr>\n",
       "      <th>is_bungalow</th>\n",
       "      <td>0.023523</td>\n",
       "    </tr>\n",
       "    <tr>\n",
       "      <th>market</th>\n",
       "      <td>0.001960</td>\n",
       "    </tr>\n",
       "  </tbody>\n",
       "</table>\n",
       "</div>"
      ],
      "text/plain": [
       "                     Missing Ratio\n",
       "rent                     97.948592\n",
       "free_from                84.433609\n",
       "district_id              74.578913\n",
       "district_lat             74.578913\n",
       "district_name            74.578913\n",
       "district_lon             74.578913\n",
       "garret_type              68.499179\n",
       "location                 68.351670\n",
       "roof_type                60.937492\n",
       "recreational             58.799343\n",
       "roofing                  47.474455\n",
       "building_material        38.699370\n",
       "windows_type             33.292985\n",
       "construction_status      28.353630\n",
       "build_year               26.217441\n",
       "floors_num               20.528779\n",
       "building_type            15.018010\n",
       "terrain_area              3.553454\n",
       "rooms_num                 0.139178\n",
       "is_bungalow               0.023523\n",
       "market                    0.001960"
      ]
     },
     "execution_count": 195,
     "metadata": {},
     "output_type": "execute_result"
    }
   ],
   "source": [
    "all_data_na = (all_data.isnull().sum() / len(all_data)) * 100\n",
    "all_data_na = all_data_na.drop(all_data_na[all_data_na == 0].index).sort_values(ascending=False)[:30]\n",
    "missing_data = pd.DataFrame({'Missing Ratio' :all_data_na})\n",
    "missing_data"
   ]
  },
  {
   "cell_type": "markdown",
   "metadata": {},
   "source": [
    "uznaliśmy, iż usuwanie kolumn powyżej 40% będzie odpowiednim podejściem, decyzja ta została podjęta na podstawie sprawdzania rekajci modelu na usuwanie tych kolumn oraz wszelakich publikacji"
   ]
  },
  {
   "cell_type": "code",
   "execution_count": 196,
   "metadata": {},
   "outputs": [],
   "source": [
    "all_data = all_data.drop(['rent',\n",
    "'free_from',\n",
    "'district_id',\n",
    "'district_lat',\n",
    "'district_name',\n",
    "'district_lon',\n",
    "'garret_type',\n",
    "'location',\n",
    "'roof_type',\n",
    "'recreational',\n",
    "'roofing'], axis=1)"
   ]
  },
  {
   "cell_type": "code",
   "execution_count": 197,
   "metadata": {},
   "outputs": [
    {
     "data": {
      "text/html": [
       "<div>\n",
       "<style scoped>\n",
       "    .dataframe tbody tr th:only-of-type {\n",
       "        vertical-align: middle;\n",
       "    }\n",
       "\n",
       "    .dataframe tbody tr th {\n",
       "        vertical-align: top;\n",
       "    }\n",
       "\n",
       "    .dataframe thead th {\n",
       "        text-align: right;\n",
       "    }\n",
       "</style>\n",
       "<table border=\"1\" class=\"dataframe\">\n",
       "  <thead>\n",
       "    <tr style=\"text-align: right;\">\n",
       "      <th></th>\n",
       "      <th>Missing Ratio</th>\n",
       "    </tr>\n",
       "  </thead>\n",
       "  <tbody>\n",
       "    <tr>\n",
       "      <th>building_material</th>\n",
       "      <td>38.699370</td>\n",
       "    </tr>\n",
       "    <tr>\n",
       "      <th>windows_type</th>\n",
       "      <td>33.292985</td>\n",
       "    </tr>\n",
       "    <tr>\n",
       "      <th>construction_status</th>\n",
       "      <td>28.353630</td>\n",
       "    </tr>\n",
       "    <tr>\n",
       "      <th>build_year</th>\n",
       "      <td>26.217441</td>\n",
       "    </tr>\n",
       "    <tr>\n",
       "      <th>floors_num</th>\n",
       "      <td>20.528779</td>\n",
       "    </tr>\n",
       "    <tr>\n",
       "      <th>building_type</th>\n",
       "      <td>15.018010</td>\n",
       "    </tr>\n",
       "    <tr>\n",
       "      <th>terrain_area</th>\n",
       "      <td>3.553454</td>\n",
       "    </tr>\n",
       "    <tr>\n",
       "      <th>rooms_num</th>\n",
       "      <td>0.139178</td>\n",
       "    </tr>\n",
       "    <tr>\n",
       "      <th>is_bungalow</th>\n",
       "      <td>0.023523</td>\n",
       "    </tr>\n",
       "    <tr>\n",
       "      <th>market</th>\n",
       "      <td>0.001960</td>\n",
       "    </tr>\n",
       "  </tbody>\n",
       "</table>\n",
       "</div>"
      ],
      "text/plain": [
       "                     Missing Ratio\n",
       "building_material        38.699370\n",
       "windows_type             33.292985\n",
       "construction_status      28.353630\n",
       "build_year               26.217441\n",
       "floors_num               20.528779\n",
       "building_type            15.018010\n",
       "terrain_area              3.553454\n",
       "rooms_num                 0.139178\n",
       "is_bungalow               0.023523\n",
       "market                    0.001960"
      ]
     },
     "execution_count": 197,
     "metadata": {},
     "output_type": "execute_result"
    }
   ],
   "source": [
    "all_data_na = (all_data.isnull().sum() / len(all_data)) * 100\n",
    "all_data_na = all_data_na.drop(all_data_na[all_data_na == 0].index).sort_values(ascending=False)[:30]\n",
    "missing_data = pd.DataFrame({'Missing Ratio' :all_data_na})\n",
    "missing_data"
   ]
  },
  {
   "cell_type": "markdown",
   "metadata": {},
   "source": [
    "po usunięciu kolumn zabraliśmy się za usunięcie wartości ekstrymalnyhc (ang. outliers)"
   ]
  },
  {
   "cell_type": "code",
   "execution_count": 198,
   "metadata": {},
   "outputs": [
    {
     "data": {
      "text/plain": [
       "['city_name',\n",
       " 'market',\n",
       " 'rooms_num',\n",
       " 'building_type',\n",
       " 'floors_num',\n",
       " 'building_material',\n",
       " 'construction_status',\n",
       " 'windows_type']"
      ]
     },
     "execution_count": 198,
     "metadata": {},
     "output_type": "execute_result"
    }
   ],
   "source": [
    "# categorical missing data (we need to convert it to numerical before removing NaNs)\n",
    "cat = list(all_data.select_dtypes(include=['object']).columns)\n",
    "cat"
   ]
  },
  {
   "cell_type": "markdown",
   "metadata": {},
   "source": [
    "Do zmiene kategoryczne wymagjące zamiany na numeryczne: ['city_name',\n",
    " 'market',\n",
    " 'rooms_num',\n",
    " 'building_type',\n",
    " 'floors_num',\n",
    " 'building_material',\n",
    " 'construction_status',\n",
    " 'windows_type']"
   ]
  },
  {
   "cell_type": "code",
   "execution_count": 199,
   "metadata": {},
   "outputs": [
    {
     "name": "stdout",
     "output_type": "stream",
     "text": [
      "['brick' 'breezeblock' 'cellular_concrete' 'other' nan 'wood' 'silikat'\n",
      " 'hydroton' 'concrete' 'concrete_plate']\n",
      "['plastic' nan 'wooden' 'notany' 'aluminium']\n",
      "['ready_to_use' 'to_completion' nan 'unfinished_open' 'unfinished_close'\n",
      " 'to_renovation']\n",
      "['detached' 'semi_detached' nan 'ribbon' 'residence' 'tenement' 'farm'\n",
      " 'house' 'separate']\n",
      "['secondary' 'primary' nan]\n",
      "['one_floor' 'two_floors' nan 'ground_floor' 'more']\n",
      "['Wymysły' 'Niepołomice' 'Tarnowskie Góry' ... 'Natać Mała' 'Stanów'\n",
      " 'Laskówka']\n",
      "['6' '4' '5' '10' '9' '3' '7' 'more' '8' '2' nan '1']\n"
     ]
    }
   ],
   "source": [
    "# building_material unique values\n",
    "un_building_material = all_data['building_material'].unique()\n",
    "# windows_type unique values\n",
    "un_windows_type = all_data['windows_type'].unique()\n",
    "# construction_status unique values\n",
    "un_construction_status = all_data['construction_status'].unique()\n",
    "# building_type unique values\n",
    "un_building_type = all_data['building_type'].unique()\n",
    "# market unique values\n",
    "un_market = all_data['market'].unique()\n",
    "# floors_num unique values\n",
    "un_floors_num = all_data['floors_num'].unique()\n",
    "# city_name unique values\n",
    "un_city_name = all_data['city_name'].unique()\n",
    "# rooms_num unique values\n",
    "un_rooms_num = all_data['rooms_num'].unique()\n",
    "\n",
    "print(un_building_material)\n",
    "print(un_windows_type)\n",
    "print(un_construction_status)\n",
    "print(un_building_type)\n",
    "print(un_market)\n",
    "print(un_floors_num)\n",
    "print(un_city_name)\n",
    "print(un_rooms_num)"
   ]
  },
  {
   "cell_type": "markdown",
   "metadata": {},
   "source": [
    "w przyapdku 'rooms_num' oraz 'floors_num' uznaliśmy, iż warto było było zamienić te kolumny na numeryczne w sposób ręczny (dopiero po uzupełnieniu pustych wartości), ponieważ były one z założenia numeryczne, aczkolwiek przez wartości 'more' były one traktowane jako kategoryczne"
   ]
  },
  {
   "cell_type": "code",
   "execution_count": 200,
   "metadata": {},
   "outputs": [
    {
     "data": {
      "text/plain": [
       "array(['6', '4', '5', '10', '9', '3', '7', 'more', '8', '2', nan, '1'],\n",
       "      dtype=object)"
      ]
     },
     "execution_count": 200,
     "metadata": {},
     "output_type": "execute_result"
    }
   ],
   "source": [
    "all_data['rooms_num'].unique()"
   ]
  },
  {
   "cell_type": "code",
   "execution_count": 201,
   "metadata": {},
   "outputs": [],
   "source": [
    "all_data.rooms_num = all_data.rooms_num.replace('more',11)"
   ]
  },
  {
   "cell_type": "code",
   "execution_count": 202,
   "metadata": {},
   "outputs": [
    {
     "data": {
      "text/plain": [
       "array(['one_floor', 'two_floors', nan, 'ground_floor', 'more'],\n",
       "      dtype=object)"
      ]
     },
     "execution_count": 202,
     "metadata": {},
     "output_type": "execute_result"
    }
   ],
   "source": [
    "all_data['floors_num'].unique()"
   ]
  },
  {
   "cell_type": "code",
   "execution_count": 203,
   "metadata": {},
   "outputs": [],
   "source": [
    "all_data.floors_num = all_data.floors_num.replace('more',4)\n",
    "all_data.floors_num = all_data.floors_num.replace('one_floor',2)\n",
    "all_data.floors_num = all_data.floors_num.replace('two_floors',3)\n",
    "all_data.floors_num = all_data.floors_num.replace('ground_floor',1)"
   ]
  },
  {
   "cell_type": "markdown",
   "metadata": {},
   "source": [
    "W przypadku pozostałych 6 zmiennych kategorycznych zamienienone zostały one za pomocą funkcji factorize. Funckjia ta została obrana, ponieważ technika One Hot Encoding oraz Lbael Encoding dawały zdecydowanie gorsze wyniki."
   ]
  },
  {
   "cell_type": "code",
   "execution_count": 204,
   "metadata": {},
   "outputs": [],
   "source": [
    "cat_feats = ['city_name',\n",
    " 'market',\n",
    " 'building_type',\n",
    " 'building_material',\n",
    " 'construction_status',\n",
    " 'windows_type']\n",
    "\n",
    "for feat in cat_feats:\n",
    "    all_data[feat] = all_data[feat].factorize()[0]"
   ]
  },
  {
   "cell_type": "code",
   "execution_count": 205,
   "metadata": {},
   "outputs": [
    {
     "name": "stdout",
     "output_type": "stream",
     "text": [
      "Total Features:  1 categorical + 79 numerical = 80 features\n"
     ]
    }
   ],
   "source": [
    "cat = len(all_data.select_dtypes(include=['object']).columns)\n",
    "num = len(all_data.select_dtypes(include=['int64','float64']).columns)\n",
    "print('Total Features: ', cat, 'categorical', '+',\n",
    "      num, 'numerical', '=', cat+num, 'features')"
   ]
  },
  {
   "cell_type": "code",
   "execution_count": 206,
   "metadata": {},
   "outputs": [
    {
     "data": {
      "text/plain": [
       "['rooms_num']"
      ]
     },
     "execution_count": 206,
     "metadata": {},
     "output_type": "execute_result"
    }
   ],
   "source": [
    "# finding categorical data that is left \n",
    "cat = list(all_data.select_dtypes(include=['object']).columns)\n",
    "cat"
   ]
  },
  {
   "cell_type": "code",
   "execution_count": 207,
   "metadata": {},
   "outputs": [],
   "source": [
    "# usuwanie id, ponieważ nie jest nam ono potrzbne oraz 'city_name' ze względu, iż podiasamy już 'city_id'\n",
    "all_data = all_data.drop(['id', 'city_name'], axis=1)"
   ]
  },
  {
   "cell_type": "code",
   "execution_count": 208,
   "metadata": {},
   "outputs": [
    {
     "data": {
      "text/html": [
       "<div>\n",
       "<style scoped>\n",
       "    .dataframe tbody tr th:only-of-type {\n",
       "        vertical-align: middle;\n",
       "    }\n",
       "\n",
       "    .dataframe tbody tr th {\n",
       "        vertical-align: top;\n",
       "    }\n",
       "\n",
       "    .dataframe thead th {\n",
       "        text-align: right;\n",
       "    }\n",
       "</style>\n",
       "<table border=\"1\" class=\"dataframe\">\n",
       "  <thead>\n",
       "    <tr style=\"text-align: right;\">\n",
       "      <th></th>\n",
       "      <th>Missing Ratio</th>\n",
       "    </tr>\n",
       "  </thead>\n",
       "  <tbody>\n",
       "    <tr>\n",
       "      <th>build_year</th>\n",
       "      <td>26.217441</td>\n",
       "    </tr>\n",
       "    <tr>\n",
       "      <th>floors_num</th>\n",
       "      <td>20.528779</td>\n",
       "    </tr>\n",
       "    <tr>\n",
       "      <th>terrain_area</th>\n",
       "      <td>3.553454</td>\n",
       "    </tr>\n",
       "    <tr>\n",
       "      <th>rooms_num</th>\n",
       "      <td>0.139178</td>\n",
       "    </tr>\n",
       "    <tr>\n",
       "      <th>is_bungalow</th>\n",
       "      <td>0.023523</td>\n",
       "    </tr>\n",
       "  </tbody>\n",
       "</table>\n",
       "</div>"
      ],
      "text/plain": [
       "              Missing Ratio\n",
       "build_year        26.217441\n",
       "floors_num        20.528779\n",
       "terrain_area       3.553454\n",
       "rooms_num          0.139178\n",
       "is_bungalow        0.023523"
      ]
     },
     "execution_count": 208,
     "metadata": {},
     "output_type": "execute_result"
    }
   ],
   "source": [
    "# Missing Ratio of Dataset\n",
    "all_data_na = (all_data.isnull().sum() / len(all_data)) * 100\n",
    "all_data_na = all_data_na.drop(all_data_na[all_data_na == 0].index).sort_values(ascending=False)[:30]\n",
    "missing_data = pd.DataFrame({'Missing Ratio' :all_data_na})\n",
    "missing_data"
   ]
  },
  {
   "cell_type": "code",
   "execution_count": 209,
   "metadata": {},
   "outputs": [],
   "source": [
    "# Dealing with NaNs (switching NaN to mode value in a column)\n",
    "# firstly, our dataset must contain numeric values only !!\n",
    "\n",
    "# originally numeric columns\n",
    "all_data['floors_num'] = all_data['floors_num'].fillna(all_data['floors_num'].mode()[0])\n",
    "# rooms number\n",
    "all_data['rooms_num'] = all_data['rooms_num'].fillna(all_data['rooms_num'].mode()[0])\n",
    "# build year\n",
    "all_data['build_year'] = all_data['build_year'].fillna(all_data['build_year'].mode()[0])\n",
    "# terrain_area \n",
    "all_data['terrain_area'] = all_data['terrain_area'].fillna(all_data['terrain_area'].mode()[0])\n",
    "# is_bungalow\n",
    "all_data['is_bungalow'] = all_data['is_bungalow'].fillna(all_data['is_bungalow'].mode()[0])"
   ]
  },
  {
   "cell_type": "code",
   "execution_count": 210,
   "metadata": {},
   "outputs": [
    {
     "data": {
      "text/plain": [
       "['rooms_num']"
      ]
     },
     "execution_count": 210,
     "metadata": {},
     "output_type": "execute_result"
    }
   ],
   "source": [
    "# finding categorical data that is left \n",
    "cat = list(all_data.select_dtypes(include=['object']).columns)\n",
    "cat"
   ]
  },
  {
   "cell_type": "code",
   "execution_count": 211,
   "metadata": {},
   "outputs": [],
   "source": [
    "all_data['rooms_num'] = all_data['rooms_num'].astype(np.int64)"
   ]
  },
  {
   "cell_type": "code",
   "execution_count": 212,
   "metadata": {},
   "outputs": [
    {
     "data": {
      "text/plain": [
       "[]"
      ]
     },
     "execution_count": 212,
     "metadata": {},
     "output_type": "execute_result"
    }
   ],
   "source": [
    "# finding categorical data that is left \n",
    "cat = list(all_data.select_dtypes(include=['object']).columns)\n",
    "cat"
   ]
  },
  {
   "cell_type": "markdown",
   "metadata": {},
   "source": [
    "#### Wracamy do 'train_d' oraz 'test_d', tak aby poradzić sobie z wartościami ekstrymalnymi w 'train_d'"
   ]
  },
  {
   "cell_type": "code",
   "execution_count": 213,
   "metadata": {},
   "outputs": [],
   "source": [
    "train_d = all_data[:ntrain_d]\n",
    "test_d = all_data[ntrain_d:]"
   ]
  },
  {
   "cell_type": "code",
   "execution_count": 214,
   "metadata": {},
   "outputs": [],
   "source": [
    "train_d = pd.concat([train_d, pd.DataFrame(columns=['price'], data=y_train_d)], axis=1)"
   ]
  },
  {
   "cell_type": "markdown",
   "metadata": {},
   "source": [
    "wartości ekstrymalne wzororwane był na specyficznych kwantylach, które rozszerzały ilość ogłoszeń w 'train_d', natomiast ostateczne usuwanie wartości ekstrymalnych zostało podjęte na podstawie wykresów oraz informacji na temat tego jak rozkładają sie wartości ekstrymalne"
   ]
  },
  {
   "cell_type": "markdown",
   "metadata": {},
   "source": [
    "#### price"
   ]
  },
  {
   "cell_type": "code",
   "execution_count": 215,
   "metadata": {},
   "outputs": [
    {
     "data": {
      "text/plain": [
       "0.0015      39000.0\n",
       "0.9975    6000000.0\n",
       "Name: price, dtype: float64"
      ]
     },
     "execution_count": 215,
     "metadata": {},
     "output_type": "execute_result"
    }
   ],
   "source": [
    "# for price\n",
    "lower_bound = 0.0015\n",
    "upper_bound = 0.9975\n",
    "\n",
    "res = train_d.price.quantile([lower_bound, upper_bound])\n",
    "res"
   ]
  },
  {
   "cell_type": "markdown",
   "metadata": {},
   "source": [
    "#### terrain_area"
   ]
  },
  {
   "cell_type": "code",
   "execution_count": 216,
   "metadata": {},
   "outputs": [
    {
     "data": {
      "text/plain": [
       "0.005       40.0\n",
       "0.995    35000.0\n",
       "Name: terrain_area, dtype: float64"
      ]
     },
     "execution_count": 216,
     "metadata": {},
     "output_type": "execute_result"
    }
   ],
   "source": [
    "# for terrain area\n",
    "lower_bound = 0.005\n",
    "upper_bound = 0.995\n",
    "\n",
    "res = train_d.terrain_area.quantile([lower_bound, upper_bound])\n",
    "res"
   ]
  },
  {
   "cell_type": "markdown",
   "metadata": {},
   "source": [
    "### floor_area"
   ]
  },
  {
   "cell_type": "code",
   "execution_count": 217,
   "metadata": {},
   "outputs": [
    {
     "data": {
      "text/plain": [
       "0.0015      30.00\n",
       "0.9950    1151.62\n",
       "Name: m, dtype: float64"
      ]
     },
     "execution_count": 217,
     "metadata": {},
     "output_type": "execute_result"
    }
   ],
   "source": [
    "# for floor area = m \n",
    "lower_bound = 0.0015\n",
    "upper_bound = 0.995\n",
    "\n",
    "res = train_d.m.quantile([lower_bound, upper_bound])\n",
    "res"
   ]
  },
  {
   "cell_type": "markdown",
   "metadata": {},
   "source": [
    "#### building_year"
   ]
  },
  {
   "cell_type": "code",
   "execution_count": 218,
   "metadata": {},
   "outputs": [
    {
     "data": {
      "text/plain": [
       "0.0015    1746.0\n",
       "0.9990    2020.0\n",
       "Name: build_year, dtype: float64"
      ]
     },
     "execution_count": 218,
     "metadata": {},
     "output_type": "execute_result"
    }
   ],
   "source": [
    "# for building year\n",
    "lower_bound = 0.0015\n",
    "upper_bound = 0.999\n",
    "\n",
    "res = train_d.build_year.quantile([lower_bound, upper_bound])\n",
    "res"
   ]
  },
  {
   "cell_type": "markdown",
   "metadata": {},
   "source": [
    "Ostateczne usuwanie ekstrymalnych wartości"
   ]
  },
  {
   "cell_type": "code",
   "execution_count": 219,
   "metadata": {},
   "outputs": [],
   "source": [
    "# price\n",
    "train_d = train_d[(train_d['price']<6000000.0) & (train_d['price']>39000.0)]\n",
    "# terrain_area\n",
    "train_d = train_d[(train_d['terrain_area']<67493.81) & (train_d['terrain_area']> 40.0)]\n",
    "# floor_area\n",
    "train_d = train_d[(train_d['m']<1151.62) & (train_d['m']>30.0)]\n",
    "# build_year\n",
    "train_d = train_d[(train_d['build_year']<2020.0) & (train_d['build_year']>1746.0)]"
   ]
  },
  {
   "cell_type": "code",
   "execution_count": 220,
   "metadata": {},
   "outputs": [
    {
     "name": "stdout",
     "output_type": "stream",
     "text": [
      "\n",
      " mu = 674272.97 and sigma = 578455.82\n",
      "\n"
     ]
    },
    {
     "data": {
      "image/png": "[encoded data removed]",
      "text/plain": [
       "<Figure size 432x288 with 1 Axes>"
      ]
     },
     "metadata": {
      "image/png": {
       "height": 282,
       "width": 399
      },
      "needs_background": "light"
     },
     "output_type": "display_data"
    },
    {
     "data": {
      "image/png": "[encoded data removed]",
      "text/plain": [
       "<Figure size 432x288 with 1 Axes>"
      ]
     },
     "metadata": {
      "image/png": {
       "height": 282,
       "width": 390
      },
      "needs_background": "light"
     },
     "output_type": "display_data"
    },
    {
     "name": "stdout",
     "output_type": "stream",
     "text": [
      "Skewness: 3.472372\n",
      "Kurtosis: 17.459464\n"
     ]
    }
   ],
   "source": [
    "# Plot Histogram\n",
    "sns.distplot(train_d['price'] , fit=norm);\n",
    "\n",
    "# Get the fitted parameters used by the function\n",
    "(mu, sigma) = norm.fit(train_d['price'])\n",
    "print( '\\n mu = {:.2f} and sigma = {:.2f}\\n'.format(mu, sigma))\n",
    "plt.legend(['Normal dist. ($\\mu=$ {:.2f} and $\\sigma=$ {:.2f} )'.format(mu, sigma)],\n",
    "            loc='best')\n",
    "plt.ylabel('Frequency')\n",
    "plt.title('SalePrice distribution')\n",
    "\n",
    "fig = plt.figure()\n",
    "res = stats.probplot(train_d['price'], plot=plt)\n",
    "plt.show()\n",
    "\n",
    "print(\"Skewness: %f\" % train_d['price'].skew())\n",
    "print(\"Kurtosis: %f\" % train_d['price'].kurt())"
   ]
  },
  {
   "cell_type": "markdown",
   "metadata": {},
   "source": [
    "### dążymy do rozkładu normalnego, jak widac logaritmizacja ceny może być dobrą praktyką w tym momencie "
   ]
  },
  {
   "cell_type": "code",
   "execution_count": 221,
   "metadata": {},
   "outputs": [
    {
     "name": "stdout",
     "output_type": "stream",
     "text": [
      "\n",
      " mu = 13.19 and sigma = 0.67\n",
      "\n"
     ]
    },
    {
     "data": {
      "image/png": "[encoded data removed]",
      "text/plain": [
       "<Figure size 432x288 with 1 Axes>"
      ]
     },
     "metadata": {
      "image/png": {
       "height": 282,
       "width": 396
      },
      "needs_background": "light"
     },
     "output_type": "display_data"
    },
    {
     "data": {
      "image/png": "[encoded data removed]",
      "text/plain": [
       "<Figure size 432x288 with 1 Axes>"
      ]
     },
     "metadata": {
      "image/png": {
       "height": 282,
       "width": 388
      },
      "needs_background": "light"
     },
     "output_type": "display_data"
    },
    {
     "name": "stdout",
     "output_type": "stream",
     "text": [
      "Skewness: 0.089539\n",
      "Kurtosis: 1.122963\n"
     ]
    }
   ],
   "source": [
    "# We use the numpy fuction log1p which  applies log(1+x) to all elements of the column\n",
    "train_d[\"price\"] = np.log1p(train_d[\"price\"])\n",
    "\n",
    "#Check the new distribution \n",
    "sns.distplot(train_d[\"price\"] , fit=norm);\n",
    "\n",
    "# Get the fitted parameters used by the function\n",
    "(mu, sigma) = norm.fit(train_d[\"price\"])\n",
    "print( '\\n mu = {:.2f} and sigma = {:.2f}\\n'.format(mu, sigma))\n",
    "plt.legend(['Normal dist. ($\\mu=$ {:.2f} and $\\sigma=$ {:.2f} )'.format(mu, sigma)],\n",
    "            loc='best')\n",
    "plt.ylabel('Frequency')\n",
    "plt.title('Price distribution')\n",
    "\n",
    "fig = plt.figure()\n",
    "res = stats.probplot(train_d['price'], plot=plt)\n",
    "plt.show()\n",
    "\n",
    "y_train_d = train_d.price.values\n",
    "\n",
    "print(\"Skewness: %f\" % train_d['price'].skew())\n",
    "print(\"Kurtosis: %f\" % train_d['price'].kurt())"
   ]
  },
  {
   "cell_type": "markdown",
   "metadata": {},
   "source": [
    "### Po logarytmizacji, skośność oraz kurtoza są na satysfakcjonującym poziomie, a rozkład przypomina już dużo bardziej rozkład normalny. Z tymi wiadomościami predykcja odbęcie sie na zlogarytmizowanych cenach."
   ]
  },
  {
   "cell_type": "markdown",
   "metadata": {},
   "source": [
    "## MIESZKANIA"
   ]
  },
  {
   "cell_type": "markdown",
   "metadata": {},
   "source": [
    "### Przypisanie 'train' oraz 'test' do ogłoszeń odnoszących się do mieszkań, jako 'test_m' oraz 'train_m'"
   ]
  },
  {
   "cell_type": "markdown",
   "metadata": {},
   "source": [
    "kroki odbywają się analogicznie do kroków w domach z małymi zmianami"
   ]
  },
  {
   "cell_type": "code",
   "execution_count": 78,
   "metadata": {},
   "outputs": [],
   "source": [
    "train_m = train[train['category']=='Mieszkanie na sprzedaż']\n",
    "\n",
    "test_m = test[test['category']=='Mieszkanie na sprzedaż']"
   ]
  },
  {
   "cell_type": "code",
   "execution_count": 79,
   "metadata": {},
   "outputs": [],
   "source": [
    "train_m_ID = train_m['id']\n",
    "test_m_ID = test_m['id']"
   ]
  },
  {
   "cell_type": "code",
   "execution_count": 80,
   "metadata": {},
   "outputs": [],
   "source": [
    "train_m = train_m.drop(['category', \n",
    "                    'cable_television', 'cable-television'], axis=1)\n",
    "\n",
    "test_m = test_m.drop(['category',\n",
    "                  'cable_television', 'cable-television'], axis=1)"
   ]
  },
  {
   "cell_type": "code",
   "execution_count": 81,
   "metadata": {
    "scrolled": true
   },
   "outputs": [
    {
     "name": "stdout",
     "output_type": "stream",
     "text": [
      "\n",
      "The train_m data size after dropping category feature is : (654841, 92) \n",
      "The test_m data size after dropping category feature is : (111251, 91) \n"
     ]
    }
   ],
   "source": [
    "print(\"\\nThe train_m data size after dropping category feature is : {} \".format(train_m.shape)) \n",
    "print(\"The test_m data size after dropping category feature is : {} \".format(test_m.shape))"
   ]
  },
  {
   "cell_type": "code",
   "execution_count": 82,
   "metadata": {},
   "outputs": [
    {
     "name": "stdout",
     "output_type": "stream",
     "text": [
      "(654841,)\n",
      "train_m data size is : (654841, 92)\n",
      "test_m data size is : (111251, 91)\n",
      "Combined dataset size is : (766092, 91)\n"
     ]
    }
   ],
   "source": [
    "# Combining Datasets\n",
    "ntrain_m = train_m.shape[0]\n",
    "ntest_m = test_m.shape[0]\n",
    "y_train_m = train_m.price.values\n",
    "print(y_train_m.shape)\n",
    "all_data = pd.concat((train_m, test_m)).reset_index(drop=True)\n",
    "all_data.drop(['price'], axis=1, inplace=True)\n",
    "print(\"train_m data size is : {}\".format(train_m.shape))\n",
    "print(\"test_m data size is : {}\".format(test_m.shape))\n",
    "print(\"Combined dataset size is : {}\".format(all_data.shape))"
   ]
  },
  {
   "cell_type": "code",
   "execution_count": 83,
   "metadata": {
    "scrolled": true
   },
   "outputs": [
    {
     "data": {
      "text/html": [
       "<div>\n",
       "<style scoped>\n",
       "    .dataframe tbody tr th:only-of-type {\n",
       "        vertical-align: middle;\n",
       "    }\n",
       "\n",
       "    .dataframe tbody tr th {\n",
       "        vertical-align: top;\n",
       "    }\n",
       "\n",
       "    .dataframe thead th {\n",
       "        text-align: right;\n",
       "    }\n",
       "</style>\n",
       "<table border=\"1\" class=\"dataframe\">\n",
       "  <thead>\n",
       "    <tr style=\"text-align: right;\">\n",
       "      <th></th>\n",
       "      <th>Missing Ratio</th>\n",
       "    </tr>\n",
       "  </thead>\n",
       "  <tbody>\n",
       "    <tr>\n",
       "      <th>garret_type</th>\n",
       "      <td>99.999217</td>\n",
       "    </tr>\n",
       "    <tr>\n",
       "      <th>roof_type</th>\n",
       "      <td>99.998564</td>\n",
       "    </tr>\n",
       "    <tr>\n",
       "      <th>location</th>\n",
       "      <td>99.998173</td>\n",
       "    </tr>\n",
       "    <tr>\n",
       "      <th>roofing</th>\n",
       "      <td>99.997781</td>\n",
       "    </tr>\n",
       "    <tr>\n",
       "      <th>recreational</th>\n",
       "      <td>99.997389</td>\n",
       "    </tr>\n",
       "    <tr>\n",
       "      <th>terrain_area</th>\n",
       "      <td>99.994518</td>\n",
       "    </tr>\n",
       "    <tr>\n",
       "      <th>floors_num</th>\n",
       "      <td>99.992951</td>\n",
       "    </tr>\n",
       "    <tr>\n",
       "      <th>is_bungalow</th>\n",
       "      <td>99.990863</td>\n",
       "    </tr>\n",
       "    <tr>\n",
       "      <th>free_from</th>\n",
       "      <td>84.149815</td>\n",
       "    </tr>\n",
       "    <tr>\n",
       "      <th>rent</th>\n",
       "      <td>58.711225</td>\n",
       "    </tr>\n",
       "    <tr>\n",
       "      <th>building_material</th>\n",
       "      <td>54.365925</td>\n",
       "    </tr>\n",
       "    <tr>\n",
       "      <th>construction_status</th>\n",
       "      <td>45.765000</td>\n",
       "    </tr>\n",
       "    <tr>\n",
       "      <th>windows_type</th>\n",
       "      <td>35.284404</td>\n",
       "    </tr>\n",
       "    <tr>\n",
       "      <th>build_year</th>\n",
       "      <td>33.699347</td>\n",
       "    </tr>\n",
       "    <tr>\n",
       "      <th>district_lat</th>\n",
       "      <td>24.943349</td>\n",
       "    </tr>\n",
       "    <tr>\n",
       "      <th>district_lon</th>\n",
       "      <td>24.943349</td>\n",
       "    </tr>\n",
       "    <tr>\n",
       "      <th>district_name</th>\n",
       "      <td>24.943349</td>\n",
       "    </tr>\n",
       "    <tr>\n",
       "      <th>district_id</th>\n",
       "      <td>24.943349</td>\n",
       "    </tr>\n",
       "    <tr>\n",
       "      <th>building_type</th>\n",
       "      <td>20.785885</td>\n",
       "    </tr>\n",
       "    <tr>\n",
       "      <th>rooms_num</th>\n",
       "      <td>0.000522</td>\n",
       "    </tr>\n",
       "    <tr>\n",
       "      <th>market</th>\n",
       "      <td>0.000261</td>\n",
       "    </tr>\n",
       "  </tbody>\n",
       "</table>\n",
       "</div>"
      ],
      "text/plain": [
       "                     Missing Ratio\n",
       "garret_type              99.999217\n",
       "roof_type                99.998564\n",
       "location                 99.998173\n",
       "roofing                  99.997781\n",
       "recreational             99.997389\n",
       "terrain_area             99.994518\n",
       "floors_num               99.992951\n",
       "is_bungalow              99.990863\n",
       "free_from                84.149815\n",
       "rent                     58.711225\n",
       "building_material        54.365925\n",
       "construction_status      45.765000\n",
       "windows_type             35.284404\n",
       "build_year               33.699347\n",
       "district_lat             24.943349\n",
       "district_lon             24.943349\n",
       "district_name            24.943349\n",
       "district_id              24.943349\n",
       "building_type            20.785885\n",
       "rooms_num                 0.000522\n",
       "market                    0.000261"
      ]
     },
     "execution_count": 83,
     "metadata": {},
     "output_type": "execute_result"
    }
   ],
   "source": [
    "all_data_na = (all_data.isnull().sum() / len(all_data)) * 100\n",
    "all_data_na = all_data_na.drop(all_data_na[all_data_na == 0].index).sort_values(ascending=False)[:30]\n",
    "missing_data = pd.DataFrame({'Missing Ratio' :all_data_na})\n",
    "missing_data"
   ]
  },
  {
   "cell_type": "code",
   "execution_count": 84,
   "metadata": {},
   "outputs": [],
   "source": [
    "all_data = all_data.drop(['floors_num',\n",
    "'garret_type',\n",
    "'roof_type',\n",
    "'location',\n",
    "'roofing',\n",
    "'recreational',\n",
    "'terrain_area',\n",
    "'is_bungalow',\n",
    "'free_from',\n",
    "'rent',\n",
    "'district_lat',\n",
    "'district_lon',\n",
    "'district_name',\n",
    "'building_material',\n",
    "'construction_status'], axis=1)"
   ]
  },
  {
   "cell_type": "code",
   "execution_count": 85,
   "metadata": {},
   "outputs": [
    {
     "data": {
      "text/html": [
       "<div>\n",
       "<style scoped>\n",
       "    .dataframe tbody tr th:only-of-type {\n",
       "        vertical-align: middle;\n",
       "    }\n",
       "\n",
       "    .dataframe tbody tr th {\n",
       "        vertical-align: top;\n",
       "    }\n",
       "\n",
       "    .dataframe thead th {\n",
       "        text-align: right;\n",
       "    }\n",
       "</style>\n",
       "<table border=\"1\" class=\"dataframe\">\n",
       "  <thead>\n",
       "    <tr style=\"text-align: right;\">\n",
       "      <th></th>\n",
       "      <th>Missing Ratio</th>\n",
       "    </tr>\n",
       "  </thead>\n",
       "  <tbody>\n",
       "    <tr>\n",
       "      <th>windows_type</th>\n",
       "      <td>35.284404</td>\n",
       "    </tr>\n",
       "    <tr>\n",
       "      <th>build_year</th>\n",
       "      <td>33.699347</td>\n",
       "    </tr>\n",
       "    <tr>\n",
       "      <th>district_id</th>\n",
       "      <td>24.943349</td>\n",
       "    </tr>\n",
       "    <tr>\n",
       "      <th>building_type</th>\n",
       "      <td>20.785885</td>\n",
       "    </tr>\n",
       "    <tr>\n",
       "      <th>rooms_num</th>\n",
       "      <td>0.000522</td>\n",
       "    </tr>\n",
       "    <tr>\n",
       "      <th>market</th>\n",
       "      <td>0.000261</td>\n",
       "    </tr>\n",
       "  </tbody>\n",
       "</table>\n",
       "</div>"
      ],
      "text/plain": [
       "               Missing Ratio\n",
       "windows_type       35.284404\n",
       "build_year         33.699347\n",
       "district_id        24.943349\n",
       "building_type      20.785885\n",
       "rooms_num           0.000522\n",
       "market              0.000261"
      ]
     },
     "execution_count": 85,
     "metadata": {},
     "output_type": "execute_result"
    }
   ],
   "source": [
    "all_data_na = (all_data.isnull().sum() / len(all_data)) * 100\n",
    "all_data_na = all_data_na.drop(all_data_na[all_data_na == 0].index).sort_values(ascending=False)[:30]\n",
    "missing_data = pd.DataFrame({'Missing Ratio' :all_data_na})\n",
    "missing_data"
   ]
  },
  {
   "cell_type": "code",
   "execution_count": 86,
   "metadata": {},
   "outputs": [
    {
     "data": {
      "text/plain": [
       "['city_name', 'market', 'rooms_num', 'building_type', 'windows_type']"
      ]
     },
     "execution_count": 86,
     "metadata": {},
     "output_type": "execute_result"
    }
   ],
   "source": [
    "# categorical missing data (we need to convert it to numerical before removing NaNs)\n",
    "cat = list(all_data.select_dtypes(include=['object']).columns)\n",
    "cat"
   ]
  },
  {
   "cell_type": "code",
   "execution_count": 87,
   "metadata": {},
   "outputs": [
    {
     "name": "stdout",
     "output_type": "stream",
     "text": [
      "['plastic' 'wooden' nan 'aluminium']\n",
      "[nan 'ribbon' 'block' 'apartment' 'tenement' 'house' 'infill' 'loft'\n",
      " 'semi_detached' 'detached' 'tenement_house']\n",
      "['secondary' 'primary' nan]\n",
      "['Olsztyn' 'Plewiska' 'Białystok' ... 'Lanckorona' 'Gowino'\n",
      " 'Klebark Wielki']\n",
      "['4' '3' '2' '5' '1' '6' '7' '9' '8' '10' 'more' nan]\n"
     ]
    }
   ],
   "source": [
    "# windows_type unique values\n",
    "un_windows_type = all_data['windows_type'].unique()\n",
    "# building_type unique values\n",
    "un_building_type = all_data['building_type'].unique()\n",
    "# market unique values\n",
    "un_market = all_data['market'].unique()\n",
    "# city_name unique values\n",
    "un_city_name = all_data['city_name'].unique()\n",
    "# rooms_num unique values\n",
    "un_rooms_num = all_data['rooms_num'].unique()\n",
    "\n",
    "print(un_windows_type)\n",
    "print(un_building_type)\n",
    "print(un_market)\n",
    "print(un_city_name)\n",
    "print(un_rooms_num)"
   ]
  },
  {
   "cell_type": "code",
   "execution_count": 88,
   "metadata": {},
   "outputs": [
    {
     "data": {
      "text/plain": [
       "array(['4', '3', '2', '5', '1', '6', '7', '9', '8', '10', 'more', nan],\n",
       "      dtype=object)"
      ]
     },
     "execution_count": 88,
     "metadata": {},
     "output_type": "execute_result"
    }
   ],
   "source": [
    "all_data['rooms_num'].unique()"
   ]
  },
  {
   "cell_type": "code",
   "execution_count": 89,
   "metadata": {},
   "outputs": [],
   "source": [
    "all_data.rooms_num = all_data.rooms_num.replace('more',11)"
   ]
  },
  {
   "cell_type": "code",
   "execution_count": 90,
   "metadata": {},
   "outputs": [
    {
     "data": {
      "text/plain": [
       "['city_name', 'market', 'rooms_num', 'building_type', 'windows_type']"
      ]
     },
     "execution_count": 90,
     "metadata": {},
     "output_type": "execute_result"
    }
   ],
   "source": [
    "# categorical missing data (we need to convert it to numerical before removing NaNs)\n",
    "cat = list(all_data.select_dtypes(include=['object']).columns)\n",
    "cat"
   ]
  },
  {
   "cell_type": "code",
   "execution_count": 91,
   "metadata": {},
   "outputs": [],
   "source": [
    "cat_feats = ['city_name', 'market', 'rooms_num', 'building_type', 'windows_type']\n",
    "\n",
    "for feat in cat_feats:\n",
    "    all_data[feat] = all_data[feat].factorize()[0]"
   ]
  },
  {
   "cell_type": "code",
   "execution_count": 92,
   "metadata": {},
   "outputs": [
    {
     "name": "stdout",
     "output_type": "stream",
     "text": [
      "Total Features:  0 categorical + 76 numerical = 76 features\n"
     ]
    }
   ],
   "source": [
    "cat = len(all_data.select_dtypes(include=['object']).columns)\n",
    "num = len(all_data.select_dtypes(include=['int64','float64']).columns)\n",
    "print('Total Features: ', cat, 'categorical', '+',\n",
    "      num, 'numerical', '=', cat+num, 'features')"
   ]
  },
  {
   "cell_type": "code",
   "execution_count": 93,
   "metadata": {},
   "outputs": [
    {
     "data": {
      "text/plain": [
       "[]"
      ]
     },
     "execution_count": 93,
     "metadata": {},
     "output_type": "execute_result"
    }
   ],
   "source": [
    "# finding categorical data that is left \n",
    "cat = list(all_data.select_dtypes(include=['object']).columns)\n",
    "cat"
   ]
  },
  {
   "cell_type": "code",
   "execution_count": 94,
   "metadata": {},
   "outputs": [
    {
     "data": {
      "text/html": [
       "<div>\n",
       "<style scoped>\n",
       "    .dataframe tbody tr th:only-of-type {\n",
       "        vertical-align: middle;\n",
       "    }\n",
       "\n",
       "    .dataframe tbody tr th {\n",
       "        vertical-align: top;\n",
       "    }\n",
       "\n",
       "    .dataframe thead th {\n",
       "        text-align: right;\n",
       "    }\n",
       "</style>\n",
       "<table border=\"1\" class=\"dataframe\">\n",
       "  <thead>\n",
       "    <tr style=\"text-align: right;\">\n",
       "      <th></th>\n",
       "      <th>Missing Ratio</th>\n",
       "    </tr>\n",
       "  </thead>\n",
       "  <tbody>\n",
       "    <tr>\n",
       "      <th>build_year</th>\n",
       "      <td>33.699347</td>\n",
       "    </tr>\n",
       "    <tr>\n",
       "      <th>district_id</th>\n",
       "      <td>24.943349</td>\n",
       "    </tr>\n",
       "  </tbody>\n",
       "</table>\n",
       "</div>"
      ],
      "text/plain": [
       "             Missing Ratio\n",
       "build_year       33.699347\n",
       "district_id      24.943349"
      ]
     },
     "execution_count": 94,
     "metadata": {},
     "output_type": "execute_result"
    }
   ],
   "source": [
    "# Find Missing Ratio of Dataset\n",
    "all_data_na = (all_data.isnull().sum() / len(all_data)) * 100\n",
    "all_data_na = all_data_na.drop(all_data_na[all_data_na == 0].index).sort_values(ascending=False)[:30]\n",
    "missing_data = pd.DataFrame({'Missing Ratio' :all_data_na})\n",
    "missing_data"
   ]
  },
  {
   "cell_type": "code",
   "execution_count": 95,
   "metadata": {},
   "outputs": [],
   "source": [
    "# build year\n",
    "all_data['build_year'] = all_data['build_year'].fillna(all_data['build_year'].mode()[0])\n",
    "# terrain_area \n",
    "all_data['district_id'] = all_data['district_id'].fillna(all_data['district_id'].mode()[0])"
   ]
  },
  {
   "cell_type": "code",
   "execution_count": 96,
   "metadata": {},
   "outputs": [
    {
     "data": {
      "text/html": [
       "<div>\n",
       "<style scoped>\n",
       "    .dataframe tbody tr th:only-of-type {\n",
       "        vertical-align: middle;\n",
       "    }\n",
       "\n",
       "    .dataframe tbody tr th {\n",
       "        vertical-align: top;\n",
       "    }\n",
       "\n",
       "    .dataframe thead th {\n",
       "        text-align: right;\n",
       "    }\n",
       "</style>\n",
       "<table border=\"1\" class=\"dataframe\">\n",
       "  <thead>\n",
       "    <tr style=\"text-align: right;\">\n",
       "      <th></th>\n",
       "      <th>Missing Ratio</th>\n",
       "    </tr>\n",
       "  </thead>\n",
       "  <tbody>\n",
       "  </tbody>\n",
       "</table>\n",
       "</div>"
      ],
      "text/plain": [
       "Empty DataFrame\n",
       "Columns: [Missing Ratio]\n",
       "Index: []"
      ]
     },
     "execution_count": 96,
     "metadata": {},
     "output_type": "execute_result"
    }
   ],
   "source": [
    "# Find Missing Ratio of Dataset\n",
    "all_data_na = (all_data.isnull().sum() / len(all_data)) * 100\n",
    "all_data_na = all_data_na.drop(all_data_na[all_data_na == 0].index).sort_values(ascending=False)[:30]\n",
    "missing_data = pd.DataFrame({'Missing Ratio' :all_data_na})\n",
    "missing_data"
   ]
  },
  {
   "cell_type": "code",
   "execution_count": 97,
   "metadata": {},
   "outputs": [],
   "source": [
    "train_m = all_data[:ntrain_m]\n",
    "test_m = all_data[ntrain_m:]"
   ]
  },
  {
   "cell_type": "code",
   "execution_count": 98,
   "metadata": {},
   "outputs": [],
   "source": [
    "train_m = pd.concat([train_m, pd.DataFrame(columns=['price'], data=y_train_m)], axis=1)"
   ]
  },
  {
   "cell_type": "code",
   "execution_count": 99,
   "metadata": {},
   "outputs": [
    {
     "data": {
      "text/plain": [
       "0.001      25000.0\n",
       "0.999    3599000.0\n",
       "Name: price, dtype: float64"
      ]
     },
     "execution_count": 99,
     "metadata": {},
     "output_type": "execute_result"
    }
   ],
   "source": [
    "lower_bound = 0.001\n",
    "upper_bound = 0.999\n",
    "\n",
    "res = train_m.price.quantile([lower_bound, upper_bound])\n",
    "res"
   ]
  },
  {
   "cell_type": "code",
   "execution_count": 100,
   "metadata": {},
   "outputs": [
    {
     "data": {
      "text/plain": [
       "0.001     16.000\n",
       "0.999    261.096\n",
       "Name: m, dtype: float64"
      ]
     },
     "execution_count": 100,
     "metadata": {},
     "output_type": "execute_result"
    }
   ],
   "source": [
    "lower_bound = 0.001\n",
    "upper_bound = 0.999\n",
    "\n",
    "res = train_m.m.quantile([lower_bound, upper_bound])\n",
    "res"
   ]
  },
  {
   "cell_type": "code",
   "execution_count": 101,
   "metadata": {},
   "outputs": [
    {
     "data": {
      "text/plain": [
       "0.0015    1856.0\n",
       "0.9900    2020.0\n",
       "Name: build_year, dtype: float64"
      ]
     },
     "execution_count": 101,
     "metadata": {},
     "output_type": "execute_result"
    }
   ],
   "source": [
    "lower_bound = 0.0015\n",
    "upper_bound = 0.99\n",
    "\n",
    "res = train_m.build_year.quantile([lower_bound, upper_bound])\n",
    "res"
   ]
  },
  {
   "cell_type": "code",
   "execution_count": 102,
   "metadata": {},
   "outputs": [],
   "source": [
    "#price\n",
    "train_m = train_m[(train_m['price']<4599000.0) & (train_m['price']>20000.0)]\n",
    "#floor_area\n",
    "train_m = train_m[(train_m['m']<286.096) & (train_m['m']>16.000)]\n",
    "#build_year\n",
    "train_m = train_m[(train_m['build_year']<2021.000) & (train_m['build_year']>1456.000)]"
   ]
  },
  {
   "cell_type": "code",
   "execution_count": 103,
   "metadata": {
    "scrolled": true
   },
   "outputs": [
    {
     "name": "stdout",
     "output_type": "stream",
     "text": [
      "\n",
      " mu = 380730.61 and sigma = 270010.83\n",
      "\n"
     ]
    },
    {
     "data": {
      "image/png": "[encoded data removed]",
      "text/plain": [
       "<Figure size 432x288 with 1 Axes>"
      ]
     },
     "metadata": {
      "image/png": {
       "height": 282,
       "width": 392
      },
      "needs_background": "light"
     },
     "output_type": "display_data"
    },
    {
     "data": {
      "image/png": "[encoded data removed]",
      "text/plain": [
       "<Figure size 432x288 with 1 Axes>"
      ]
     },
     "metadata": {
      "image/png": {
       "height": 282,
       "width": 381
      },
      "needs_background": "light"
     },
     "output_type": "display_data"
    },
    {
     "name": "stdout",
     "output_type": "stream",
     "text": [
      "Skewness: 4.259631\n",
      "Kurtosis: 33.132965\n"
     ]
    }
   ],
   "source": [
    "# Plot Histogram\n",
    "sns.distplot(train_m['price'] , fit=norm);\n",
    "\n",
    "# Get the fitted parameters used by the function\n",
    "(mu, sigma) = norm.fit(train_m['price'])\n",
    "print( '\\n mu = {:.2f} and sigma = {:.2f}\\n'.format(mu, sigma))\n",
    "plt.legend(['Normal dist. ($\\mu=$ {:.2f} and $\\sigma=$ {:.2f} )'.format(mu, sigma)],\n",
    "            loc='best')\n",
    "plt.ylabel('Frequency')\n",
    "plt.title('SalePrice distribution')\n",
    "\n",
    "fig = plt.figure()\n",
    "res = stats.probplot(train_m['price'], plot=plt)\n",
    "plt.show()\n",
    "\n",
    "print(\"Skewness: %f\" % train_m['price'].skew())\n",
    "print(\"Kurtosis: %f\" % train_m['price'].kurt())"
   ]
  },
  {
   "cell_type": "code",
   "execution_count": 104,
   "metadata": {},
   "outputs": [
    {
     "name": "stdout",
     "output_type": "stream",
     "text": [
      "\n",
      " mu = 12.69 and sigma = 0.55\n",
      "\n"
     ]
    },
    {
     "data": {
      "image/png": "[encoded data removed]",
      "text/plain": [
       "<Figure size 432x288 with 1 Axes>"
      ]
     },
     "metadata": {
      "image/png": {
       "height": 282,
       "width": 392
      },
      "needs_background": "light"
     },
     "output_type": "display_data"
    },
    {
     "data": {
      "image/png": "[encoded data removed]",
      "text/plain": [
       "<Figure size 432x288 with 1 Axes>"
      ]
     },
     "metadata": {
      "image/png": {
       "height": 282,
       "width": 388
      },
      "needs_background": "light"
     },
     "output_type": "display_data"
    },
    {
     "name": "stdout",
     "output_type": "stream",
     "text": [
      "Skewness: 0.163001\n",
      "Kurtosis: 1.362466\n"
     ]
    }
   ],
   "source": [
    "# We use the numpy fuction log1p which  applies log(1+x) to all elements of the column\n",
    "train_m[\"price\"] = np.log1p(train_m[\"price\"])\n",
    "\n",
    "#Check the new distribution \n",
    "sns.distplot(train_m[\"price\"] , fit=norm);\n",
    "\n",
    "# Get the fitted parameters used by the function\n",
    "(mu, sigma) = norm.fit(train_m[\"price\"])\n",
    "print( '\\n mu = {:.2f} and sigma = {:.2f}\\n'.format(mu, sigma))\n",
    "plt.legend(['Normal dist. ($\\mu=$ {:.2f} and $\\sigma=$ {:.2f} )'.format(mu, sigma)],\n",
    "            loc='best')\n",
    "plt.ylabel('Frequency')\n",
    "plt.title('Price distribution')\n",
    "\n",
    "fig = plt.figure()\n",
    "res = stats.probplot(train_m['price'], plot=plt)\n",
    "plt.show()\n",
    "\n",
    "y_train_m = train_m.price.values\n",
    "\n",
    "print(\"Skewness: %f\" % train_m['price'].skew())\n",
    "print(\"Kurtosis: %f\" % train_m['price'].kurt())"
   ]
  },
  {
   "cell_type": "markdown",
   "metadata": {},
   "source": [
    "# Etap predykcja:\n",
    "\n",
    "\n",
    "1. uzasadnij wybór użytego algortymu/modelu,\n",
    "2. załaduj stworzony model,\n",
    "3. dokonaj predykcji dla zbioru walidacyjnego i zmierz jej jakość.\n",
    "\n",
    "### Na tym etapie predykcja modeli również przebiega oddzielnie dla domów oraz mieszkań. Domy zostaną opisane szczegółowo natomiast w przypadku mieszkań nastapiło analogiczne wnioskowanie."
   ]
  },
  {
   "cell_type": "markdown",
   "metadata": {},
   "source": [
    "# Model"
   ]
  },
  {
   "cell_type": "markdown",
   "metadata": {},
   "source": [
    "Po długich rozważaniach i wielu próbach z wykorzystaniem innych algorytmów (AdaBoost, CatBoost, Lasso-Regressor, ElasticNet i innych), a nawet stackowaniem rezultatów otrzymywanych z wyżej wymienionych algorytmów, postawiliśmy na XGBoosta (eXtreme Gradient Boosting).\n",
    "\n",
    "Biblioteka XGBoost implementuje algorytm Gradient Boosting. \n",
    "Boosting to technika, w której nowe modele dodawane są (co iterację) w celu skorygowania błędów popełnianych przez istniejące estymatory. Nowe modele tworzy się minimalizując odchylenia (wartości predykowanych od rzeczywistych), przy użyciu algorytmu spadku gradientu (Gradient Descent). Modele są dodawane sekwencyjnie, aż do momentu, w którym nie będzie można dokonać dalszych ulepszeń. \n",
    "\n",
    "Podstawowym kryterium jakie braliśmy pod uwagę wybierająć XGBoosta była oczywiście jakość predykcji jaką zapewniał nam model, warto zauważyć, żę dla pojedyńczego modelu uzyskiwaliśmy lepsze wyniki niż w przypadku stackowania predykcji kilku innych algorytmów na potrzeby uczenia meta-modelu. XGBoost jest także jednym z najszybszych narzędzi implementujących technikę Gradient Boostingu, co okazało się niezwykle wartościowe przy wielokrotnym trenowaniu modelu po zmianach, wprowadzanych na wcześniejszych etapach. Nie bez znaczenia pozostaje także wyczerpująca dokumentacja biblioteki, znacznie ułatwiająca rozpoczęcie pracy nad modelem.     "
   ]
  },
  {
   "cell_type": "code",
   "execution_count": 3,
   "metadata": {},
   "outputs": [],
   "source": [
    "model_xgb = xgb.XGBRegressor(colsample_bytree=0.2, gamma=0.0, \n",
    "                             learning_rate=0.05, max_depth=8, \n",
    "                             min_child_weight=1.5, n_estimators=7200,\n",
    "                             reg_alpha=0.9, reg_lambda=0.6,\n",
    "                             subsample=0.2,seed=42, silent=1,\n",
    "                             random_state=7)"
   ]
  },
  {
   "cell_type": "markdown",
   "metadata": {},
   "source": [
    "# Załadowanie modelu"
   ]
  },
  {
   "cell_type": "markdown",
   "metadata": {},
   "source": [
    "W komórce poniżej zamieszczamy \"wytrenowany\" na zbiorze uczącym model dla domów. "
   ]
  },
  {
   "cell_type": "code",
   "execution_count": 4,
   "metadata": {
    "scrolled": true
   },
   "outputs": [
    {
     "name": "stdout",
     "output_type": "stream",
     "text": [
      "[20:05:00] WARNING: src/objective/regression_obj.cu:152: reg:linear is now deprecated in favor of reg:squarederror.\n"
     ]
    }
   ],
   "source": [
    "model_xgb = xgb.XGBRegressor()  # init model\n",
    "model_xgb.load_model('final_houses_model.model')  # load pre-trained model"
   ]
  },
  {
   "cell_type": "markdown",
   "metadata": {},
   "source": [
    "# Tworzenie zbioru walidacyjnego"
   ]
  },
  {
   "cell_type": "code",
   "execution_count": 5,
   "metadata": {},
   "outputs": [],
   "source": [
    "validation = train.sample(frac=0.33) "
   ]
  },
  {
   "cell_type": "code",
   "execution_count": 6,
   "metadata": {
    "scrolled": false
   },
   "outputs": [
    {
     "name": "stdout",
     "output_type": "stream",
     "text": [
      "(57195,)\n",
      "Index(['is_business', 'city_id', 'region_id', 'city_lon', 'city_lat',\n",
      "       'terrain_area', 'm', 'market', 'rooms_num', 'building_type',\n",
      "       'floors_num', 'building_material', 'build_year', 'construction_status',\n",
      "       'windows_type', 'is_bungalow', 'air_conditioning', 'asphalt_access',\n",
      "       'attic', 'balcony', 'basement', 'elevator', 'furniture', 'garage',\n",
      "       'garden', 'heating', 'lift', 'parking', 'pool', 'separate_kitchen',\n",
      "       'terrace', 'two_storey', 'usable_room', 'cesspool', 'electricity',\n",
      "       'gas', 'internet', 'phone', 'sewage', 'water', 'water_purification',\n",
      "       'alarm', 'anti_burglary_door', 'closed_area', 'entryphone',\n",
      "       'monitoring', 'roller_shutters', 'biomass', 'coal', 'electric',\n",
      "       'fireplace', 'gas.1', 'geothermal', 'heat_pump', 'oil',\n",
      "       'solar_collector', 'stove', 'urban', 'brick', 'concrete', 'hedge',\n",
      "       'metal', 'other', 'wire', 'wooden', 'forest', 'lake', 'mountains',\n",
      "       'open_terrain', 'sea', 'asphalt', 'dirt', 'hard_surfaced',\n",
      "       'soft_surfaced', 'year', 'month', 'yq', 'closest_city'],\n",
      "      dtype='object')\n"
     ]
    }
   ],
   "source": [
    "validation_prices = np.expm1(validation.price.values)\n",
    "print(validation_prices.shape)\n",
    "validation.drop(['price'], axis=1, inplace=True)\n",
    "print(validation.columns)"
   ]
  },
  {
   "cell_type": "markdown",
   "metadata": {},
   "source": [
    "# Wykonujemy predykcje dla zbioru walidacyjnego "
   ]
  },
  {
   "cell_type": "markdown",
   "metadata": {},
   "source": [
    "Wcześniej dopasowany do obserwacji ze zbioru treningowego model, będzie predykował ceny domów (model jest już \"wyternowany\" (krzywa regresji jest już wyznaczona), co za tym idzie poniższa instrukcja wymaga od programu jedynie umiejscowienie obserwacji ze zbioru walidacyjnego na krzywej regresji i odczytanie przewidywanej (najbliższej) ceny.  "
   ]
  },
  {
   "cell_type": "code",
   "execution_count": 7,
   "metadata": {
    "scrolled": true
   },
   "outputs": [],
   "source": [
    "xgb_validation_pred = np.expm1(model_xgb.predict(validation))"
   ]
  },
  {
   "cell_type": "markdown",
   "metadata": {},
   "source": [
    "# Ocena jakości predykcji dla zbioru walidacyjnego"
   ]
  },
  {
   "cell_type": "markdown",
   "metadata": {},
   "source": [
    "Do oceny jakości predykcji posłużyliśmy się klasycznymi, w przypadku problemu regresji, metrykami oceniającymi jakość predykcji modelu (wszystkie miary bazują na \"odległości\" wartości predyckji od rzeczywistej wartości ogłoszenia).\n",
    "\n",
    "1) MAE - Mean Absolute Error (miara jest uśrednioną dla wszystkich obserwacji wartością bezwzględną z różnicy między predykcją a rzeczywistą wartością (w tym przypadku rzeczywistą ceną ogłoszenia). Miara ta daje dobry pogląd o tym jak niepoprawne są predykcje modelu, nie wskazuje jadnak czy model zaniża czy zawyża poziom predykcji.)\n",
    "\n",
    "W naszym przypadku (model dla domów) osiągnął wynik MAE = 77848.65 co znaczy, że średnie odchylenie predykcji od rzeczywistej wartości ogłoszenia wynosiło ok. 77 tys. zł. \n",
    "\n",
    "2) MSE - Mean Squared Error (miara jest kwadratem \"odległości\" pomiędzy wartością predykcji a wartości rzeczywistej, jest ona szczególnie wrażliwa na znaczne odchylenia)\n",
    "\n",
    "3) RMSE - Root Mean Squared Error (to pierwiastek kadratowy z poprzedniej miary (z racji na to także bardzo wrażliwy na występowanie wartości ekstremalnych), dzięki zastosowaniu pierwiastka kwadratowego sprowadzamy wartość pomiaru błędu kwadratowego do oryginalnych jednostek. \n",
    "\n",
    "W naszym przypadku (model dla domów) osiągnął wynik RMSE = 166011.95 co znaczy, że model średnio myli się o ok 166 tys. zł. \n",
    "\n",
    "4) R^2 - Coefficient of determination (miara dopasowania modelu do obserwacji ze zbioru treningowego, choć istnieją lepsze metody pomiaru dopasowania, umożliwiające zdefiniowanie przyczynowości to R^2 jest nadal często stosowaną miarą a jej wzrost jednoznacznie wskazuje na poprawę dopasowania modelu. \n",
    "\n",
    "Literatura wskazuje poziom R^2 = 0.9 jako bardzo dobre dopasowanie, nasz model (dla domów) osiągnął wartość R^2 = 0.92029, co stanowiło dla nas sygnał, że wykorzystanie regresji liniowej do zbudowania modelu było słuszną decyzją. \n",
    "\n",
    "\n",
    "Poniższa komórka prezentuje wartości miar błędu predykcji wyznaczone z pomocą popularnej biblioteki machine learningowej Scikit-learn. "
   ]
  },
  {
   "cell_type": "code",
   "execution_count": 9,
   "metadata": {},
   "outputs": [
    {
     "name": "stdout",
     "output_type": "stream",
     "text": [
      "Linear Regression Performance\n",
      "MAE = 77848.65979919299\n",
      "MSE = 27559968484.007355\n",
      "RMSE = 166011.9528347503\n",
      "R^2 = 0.9202868159175249\n"
     ]
    }
   ],
   "source": [
    "predMetrics()"
   ]
  },
  {
   "cell_type": "markdown",
   "metadata": {},
   "source": [
    "# Etap analizy predykcji:"
   ]
  },
  {
   "cell_type": "markdown",
   "metadata": {},
   "source": [
    "### Etap ten został zaprezentowany tylko dla modelu dot. domów"
   ]
  },
  {
   "cell_type": "markdown",
   "metadata": {},
   "source": [
    "1. przeanalizuj wpływ poszczególnych cech na predykcję,\n",
    "2. zaprezentuj i wytłumacz na konkretnym przykładzie lub przykładach jak jego/ich cechy wpływają na predykcję. Jak zmieni się predykcja jeśli zmienimy którąś z cech?\n",
    "3. porównaj ze sobą dwa ogłoszenia z tej samej kategorii o różnych cenach i wytłumacz za pomocą modelu różnicę w cenie,\n",
    "4. jeśli chcesz możesz zaprezentować też dodatkowe analizy,\n",
    "5. wnioski.\n",
    "\n",
    "6. Odpowiedz na dodatkowe pytania:\n",
    "    \n",
    "    6.1. Co Twoim zdaniem mogłoby zwiększyć jakość predykcji? (np. inne kategorie danych (jakie?), zwiększenie możliwości związanych z przetwarzaniem danych, itp.)\n",
    "    \n",
    "    6.2. Do czego wykorzystałbyś ten model w serwisie Otodom? Czy widzisz dla niego jakieś praktyczne zastosowania?\n"
   ]
  },
  {
   "cell_type": "markdown",
   "metadata": {},
   "source": [
    "# Feature importance - wpływ poszczególnych cech na predykcję "
   ]
  },
  {
   "cell_type": "markdown",
   "metadata": {},
   "source": [
    "Wykorzystanie algorytmu opartego o technikę Gradient Boostingu, jest szczególnie korzystne w przypadku interpretacji ważności zmiennych w modelu. \n",
    "\n",
    "W poniższej komórce skorzystaliśmy z metody feature_importances_ pakietu XGBoost, dzięki której uzyskaliśmy wyniki istotności poszczególnych zmiennych wykorzystywanych w modelu. Wynik istotności cechy wzrasta wraz ze zwiększającą się liczbą decyzji drzewa decyzyjnego opierającego sie o wartość konkretnej cechy. Istotność jest wyznaczana dla każdej cechy wykorzystywanej w modelu co pozwala na łatwe sortowanie uzyskanych rezultatów.  \n",
    "\n",
    "Poniżej prezentujemy ranking cech oraz jego wizualizację w postaci histogramów. "
   ]
  },
  {
   "cell_type": "code",
   "execution_count": 10,
   "metadata": {
    "scrolled": false
   },
   "outputs": [],
   "source": [
    "feature_importance_df = pd.DataFrame()\n",
    "feature_importance_df['features'] = validation.columns.tolist()\n",
    "feature_importance_df['importances'] = model_xgb.feature_importances_.tolist()\n",
    "\n",
    "feature_importance_df = feature_importance_df.sort_values(by='importances', ascending=False)\n",
    "feature_importance_df['importances'] = feature_importance_df['importances']*100\n",
    "\n",
    "pd.set_option(\"display.max_rows\", None)"
   ]
  },
  {
   "cell_type": "code",
   "execution_count": 12,
   "metadata": {},
   "outputs": [
    {
     "data": {
      "text/html": [
       "<div>\n",
       "<style scoped>\n",
       "    .dataframe tbody tr th:only-of-type {\n",
       "        vertical-align: middle;\n",
       "    }\n",
       "\n",
       "    .dataframe tbody tr th {\n",
       "        vertical-align: top;\n",
       "    }\n",
       "\n",
       "    .dataframe thead th {\n",
       "        text-align: right;\n",
       "    }\n",
       "</style>\n",
       "<table border=\"1\" class=\"dataframe\">\n",
       "  <thead>\n",
       "    <tr style=\"text-align: right;\">\n",
       "      <th></th>\n",
       "      <th>features</th>\n",
       "      <th>importances</th>\n",
       "    </tr>\n",
       "  </thead>\n",
       "  <tbody>\n",
       "    <tr>\n",
       "      <th>6</th>\n",
       "      <td>m</td>\n",
       "      <td>8.531805</td>\n",
       "    </tr>\n",
       "    <tr>\n",
       "      <th>8</th>\n",
       "      <td>rooms_num</td>\n",
       "      <td>6.951023</td>\n",
       "    </tr>\n",
       "    <tr>\n",
       "      <th>41</th>\n",
       "      <td>alarm</td>\n",
       "      <td>4.938266</td>\n",
       "    </tr>\n",
       "    <tr>\n",
       "      <th>13</th>\n",
       "      <td>construction_status</td>\n",
       "      <td>4.237304</td>\n",
       "    </tr>\n",
       "    <tr>\n",
       "      <th>77</th>\n",
       "      <td>closest_city</td>\n",
       "      <td>3.704131</td>\n",
       "    </tr>\n",
       "    <tr>\n",
       "      <th>1</th>\n",
       "      <td>city_id</td>\n",
       "      <td>3.192989</td>\n",
       "    </tr>\n",
       "    <tr>\n",
       "      <th>51</th>\n",
       "      <td>gas.1</td>\n",
       "      <td>2.816785</td>\n",
       "    </tr>\n",
       "    <tr>\n",
       "      <th>23</th>\n",
       "      <td>garage</td>\n",
       "      <td>2.413068</td>\n",
       "    </tr>\n",
       "    <tr>\n",
       "      <th>35</th>\n",
       "      <td>gas</td>\n",
       "      <td>2.357059</td>\n",
       "    </tr>\n",
       "    <tr>\n",
       "      <th>2</th>\n",
       "      <td>region_id</td>\n",
       "      <td>2.162877</td>\n",
       "    </tr>\n",
       "    <tr>\n",
       "      <th>12</th>\n",
       "      <td>build_year</td>\n",
       "      <td>2.157855</td>\n",
       "    </tr>\n",
       "    <tr>\n",
       "      <th>4</th>\n",
       "      <td>city_lat</td>\n",
       "      <td>2.152246</td>\n",
       "    </tr>\n",
       "    <tr>\n",
       "      <th>3</th>\n",
       "      <td>city_lon</td>\n",
       "      <td>2.116799</td>\n",
       "    </tr>\n",
       "    <tr>\n",
       "      <th>45</th>\n",
       "      <td>monitoring</td>\n",
       "      <td>2.109089</td>\n",
       "    </tr>\n",
       "    <tr>\n",
       "      <th>5</th>\n",
       "      <td>terrain_area</td>\n",
       "      <td>2.003402</td>\n",
       "    </tr>\n",
       "    <tr>\n",
       "      <th>48</th>\n",
       "      <td>coal</td>\n",
       "      <td>1.870681</td>\n",
       "    </tr>\n",
       "    <tr>\n",
       "      <th>7</th>\n",
       "      <td>market</td>\n",
       "      <td>1.719984</td>\n",
       "    </tr>\n",
       "    <tr>\n",
       "      <th>56</th>\n",
       "      <td>stove</td>\n",
       "      <td>1.705917</td>\n",
       "    </tr>\n",
       "    <tr>\n",
       "      <th>16</th>\n",
       "      <td>air_conditioning</td>\n",
       "      <td>1.482317</td>\n",
       "    </tr>\n",
       "    <tr>\n",
       "      <th>34</th>\n",
       "      <td>electricity</td>\n",
       "      <td>1.434848</td>\n",
       "    </tr>\n",
       "    <tr>\n",
       "      <th>14</th>\n",
       "      <td>windows_type</td>\n",
       "      <td>1.411199</td>\n",
       "    </tr>\n",
       "    <tr>\n",
       "      <th>9</th>\n",
       "      <td>building_type</td>\n",
       "      <td>1.321657</td>\n",
       "    </tr>\n",
       "    <tr>\n",
       "      <th>36</th>\n",
       "      <td>internet</td>\n",
       "      <td>1.274291</td>\n",
       "    </tr>\n",
       "    <tr>\n",
       "      <th>10</th>\n",
       "      <td>floors_num</td>\n",
       "      <td>1.271260</td>\n",
       "    </tr>\n",
       "    <tr>\n",
       "      <th>44</th>\n",
       "      <td>entryphone</td>\n",
       "      <td>1.235769</td>\n",
       "    </tr>\n",
       "    <tr>\n",
       "      <th>20</th>\n",
       "      <td>basement</td>\n",
       "      <td>1.176587</td>\n",
       "    </tr>\n",
       "    <tr>\n",
       "      <th>39</th>\n",
       "      <td>water</td>\n",
       "      <td>1.135397</td>\n",
       "    </tr>\n",
       "    <tr>\n",
       "      <th>70</th>\n",
       "      <td>asphalt</td>\n",
       "      <td>1.092000</td>\n",
       "    </tr>\n",
       "    <tr>\n",
       "      <th>11</th>\n",
       "      <td>building_material</td>\n",
       "      <td>1.079412</td>\n",
       "    </tr>\n",
       "    <tr>\n",
       "      <th>38</th>\n",
       "      <td>sewage</td>\n",
       "      <td>1.066852</td>\n",
       "    </tr>\n",
       "    <tr>\n",
       "      <th>0</th>\n",
       "      <td>is_business</td>\n",
       "      <td>1.066354</td>\n",
       "    </tr>\n",
       "    <tr>\n",
       "      <th>33</th>\n",
       "      <td>cesspool</td>\n",
       "      <td>1.059312</td>\n",
       "    </tr>\n",
       "    <tr>\n",
       "      <th>57</th>\n",
       "      <td>urban</td>\n",
       "      <td>1.049327</td>\n",
       "    </tr>\n",
       "    <tr>\n",
       "      <th>76</th>\n",
       "      <td>yq</td>\n",
       "      <td>1.034817</td>\n",
       "    </tr>\n",
       "    <tr>\n",
       "      <th>75</th>\n",
       "      <td>month</td>\n",
       "      <td>1.032940</td>\n",
       "    </tr>\n",
       "    <tr>\n",
       "      <th>63</th>\n",
       "      <td>wire</td>\n",
       "      <td>1.031313</td>\n",
       "    </tr>\n",
       "    <tr>\n",
       "      <th>18</th>\n",
       "      <td>attic</td>\n",
       "      <td>0.983007</td>\n",
       "    </tr>\n",
       "    <tr>\n",
       "      <th>15</th>\n",
       "      <td>is_bungalow</td>\n",
       "      <td>0.953596</td>\n",
       "    </tr>\n",
       "    <tr>\n",
       "      <th>37</th>\n",
       "      <td>phone</td>\n",
       "      <td>0.944673</td>\n",
       "    </tr>\n",
       "    <tr>\n",
       "      <th>65</th>\n",
       "      <td>forest</td>\n",
       "      <td>0.896654</td>\n",
       "    </tr>\n",
       "    <tr>\n",
       "      <th>74</th>\n",
       "      <td>year</td>\n",
       "      <td>0.889647</td>\n",
       "    </tr>\n",
       "    <tr>\n",
       "      <th>72</th>\n",
       "      <td>hard_surfaced</td>\n",
       "      <td>0.883733</td>\n",
       "    </tr>\n",
       "    <tr>\n",
       "      <th>53</th>\n",
       "      <td>heat_pump</td>\n",
       "      <td>0.871162</td>\n",
       "    </tr>\n",
       "    <tr>\n",
       "      <th>43</th>\n",
       "      <td>closed_area</td>\n",
       "      <td>0.855160</td>\n",
       "    </tr>\n",
       "    <tr>\n",
       "      <th>50</th>\n",
       "      <td>fireplace</td>\n",
       "      <td>0.785991</td>\n",
       "    </tr>\n",
       "    <tr>\n",
       "      <th>28</th>\n",
       "      <td>pool</td>\n",
       "      <td>0.768893</td>\n",
       "    </tr>\n",
       "    <tr>\n",
       "      <th>66</th>\n",
       "      <td>lake</td>\n",
       "      <td>0.767934</td>\n",
       "    </tr>\n",
       "    <tr>\n",
       "      <th>42</th>\n",
       "      <td>anti_burglary_door</td>\n",
       "      <td>0.760448</td>\n",
       "    </tr>\n",
       "    <tr>\n",
       "      <th>71</th>\n",
       "      <td>dirt</td>\n",
       "      <td>0.722562</td>\n",
       "    </tr>\n",
       "    <tr>\n",
       "      <th>58</th>\n",
       "      <td>brick</td>\n",
       "      <td>0.708979</td>\n",
       "    </tr>\n",
       "    <tr>\n",
       "      <th>61</th>\n",
       "      <td>metal</td>\n",
       "      <td>0.707265</td>\n",
       "    </tr>\n",
       "    <tr>\n",
       "      <th>54</th>\n",
       "      <td>oil</td>\n",
       "      <td>0.696015</td>\n",
       "    </tr>\n",
       "    <tr>\n",
       "      <th>69</th>\n",
       "      <td>sea</td>\n",
       "      <td>0.690945</td>\n",
       "    </tr>\n",
       "    <tr>\n",
       "      <th>46</th>\n",
       "      <td>roller_shutters</td>\n",
       "      <td>0.674732</td>\n",
       "    </tr>\n",
       "    <tr>\n",
       "      <th>67</th>\n",
       "      <td>mountains</td>\n",
       "      <td>0.673045</td>\n",
       "    </tr>\n",
       "    <tr>\n",
       "      <th>52</th>\n",
       "      <td>geothermal</td>\n",
       "      <td>0.666427</td>\n",
       "    </tr>\n",
       "    <tr>\n",
       "      <th>62</th>\n",
       "      <td>other</td>\n",
       "      <td>0.664837</td>\n",
       "    </tr>\n",
       "    <tr>\n",
       "      <th>64</th>\n",
       "      <td>wooden</td>\n",
       "      <td>0.660613</td>\n",
       "    </tr>\n",
       "    <tr>\n",
       "      <th>49</th>\n",
       "      <td>electric</td>\n",
       "      <td>0.560461</td>\n",
       "    </tr>\n",
       "    <tr>\n",
       "      <th>59</th>\n",
       "      <td>concrete</td>\n",
       "      <td>0.560097</td>\n",
       "    </tr>\n",
       "    <tr>\n",
       "      <th>40</th>\n",
       "      <td>water_purification</td>\n",
       "      <td>0.540560</td>\n",
       "    </tr>\n",
       "    <tr>\n",
       "      <th>30</th>\n",
       "      <td>terrace</td>\n",
       "      <td>0.482982</td>\n",
       "    </tr>\n",
       "    <tr>\n",
       "      <th>60</th>\n",
       "      <td>hedge</td>\n",
       "      <td>0.480753</td>\n",
       "    </tr>\n",
       "    <tr>\n",
       "      <th>47</th>\n",
       "      <td>biomass</td>\n",
       "      <td>0.476438</td>\n",
       "    </tr>\n",
       "    <tr>\n",
       "      <th>55</th>\n",
       "      <td>solar_collector</td>\n",
       "      <td>0.419064</td>\n",
       "    </tr>\n",
       "    <tr>\n",
       "      <th>32</th>\n",
       "      <td>usable_room</td>\n",
       "      <td>0.247211</td>\n",
       "    </tr>\n",
       "    <tr>\n",
       "      <th>29</th>\n",
       "      <td>separate_kitchen</td>\n",
       "      <td>0.241174</td>\n",
       "    </tr>\n",
       "    <tr>\n",
       "      <th>24</th>\n",
       "      <td>garden</td>\n",
       "      <td>0.190638</td>\n",
       "    </tr>\n",
       "    <tr>\n",
       "      <th>19</th>\n",
       "      <td>balcony</td>\n",
       "      <td>0.135484</td>\n",
       "    </tr>\n",
       "    <tr>\n",
       "      <th>31</th>\n",
       "      <td>two_storey</td>\n",
       "      <td>0.041893</td>\n",
       "    </tr>\n",
       "    <tr>\n",
       "      <th>73</th>\n",
       "      <td>soft_surfaced</td>\n",
       "      <td>0.000000</td>\n",
       "    </tr>\n",
       "    <tr>\n",
       "      <th>22</th>\n",
       "      <td>furniture</td>\n",
       "      <td>0.000000</td>\n",
       "    </tr>\n",
       "    <tr>\n",
       "      <th>26</th>\n",
       "      <td>lift</td>\n",
       "      <td>0.000000</td>\n",
       "    </tr>\n",
       "    <tr>\n",
       "      <th>25</th>\n",
       "      <td>heating</td>\n",
       "      <td>0.000000</td>\n",
       "    </tr>\n",
       "    <tr>\n",
       "      <th>68</th>\n",
       "      <td>open_terrain</td>\n",
       "      <td>0.000000</td>\n",
       "    </tr>\n",
       "    <tr>\n",
       "      <th>21</th>\n",
       "      <td>elevator</td>\n",
       "      <td>0.000000</td>\n",
       "    </tr>\n",
       "    <tr>\n",
       "      <th>17</th>\n",
       "      <td>asphalt_access</td>\n",
       "      <td>0.000000</td>\n",
       "    </tr>\n",
       "    <tr>\n",
       "      <th>27</th>\n",
       "      <td>parking</td>\n",
       "      <td>0.000000</td>\n",
       "    </tr>\n",
       "  </tbody>\n",
       "</table>\n",
       "</div>"
      ],
      "text/plain": [
       "               features  importances\n",
       "6                     m     8.531805\n",
       "8             rooms_num     6.951023\n",
       "41                alarm     4.938266\n",
       "13  construction_status     4.237304\n",
       "77         closest_city     3.704131\n",
       "1               city_id     3.192989\n",
       "51                gas.1     2.816785\n",
       "23               garage     2.413068\n",
       "35                  gas     2.357059\n",
       "2             region_id     2.162877\n",
       "12           build_year     2.157855\n",
       "4              city_lat     2.152246\n",
       "3              city_lon     2.116799\n",
       "45           monitoring     2.109089\n",
       "5          terrain_area     2.003402\n",
       "48                 coal     1.870681\n",
       "7                market     1.719984\n",
       "56                stove     1.705917\n",
       "16     air_conditioning     1.482317\n",
       "34          electricity     1.434848\n",
       "14         windows_type     1.411199\n",
       "9         building_type     1.321657\n",
       "36             internet     1.274291\n",
       "10           floors_num     1.271260\n",
       "44           entryphone     1.235769\n",
       "20             basement     1.176587\n",
       "39                water     1.135397\n",
       "70              asphalt     1.092000\n",
       "11    building_material     1.079412\n",
       "38               sewage     1.066852\n",
       "0           is_business     1.066354\n",
       "33             cesspool     1.059312\n",
       "57                urban     1.049327\n",
       "76                   yq     1.034817\n",
       "75                month     1.032940\n",
       "63                 wire     1.031313\n",
       "18                attic     0.983007\n",
       "15          is_bungalow     0.953596\n",
       "37                phone     0.944673\n",
       "65               forest     0.896654\n",
       "74                 year     0.889647\n",
       "72        hard_surfaced     0.883733\n",
       "53            heat_pump     0.871162\n",
       "43          closed_area     0.855160\n",
       "50            fireplace     0.785991\n",
       "28                 pool     0.768893\n",
       "66                 lake     0.767934\n",
       "42   anti_burglary_door     0.760448\n",
       "71                 dirt     0.722562\n",
       "58                brick     0.708979\n",
       "61                metal     0.707265\n",
       "54                  oil     0.696015\n",
       "69                  sea     0.690945\n",
       "46      roller_shutters     0.674732\n",
       "67            mountains     0.673045\n",
       "52           geothermal     0.666427\n",
       "62                other     0.664837\n",
       "64               wooden     0.660613\n",
       "49             electric     0.560461\n",
       "59             concrete     0.560097\n",
       "40   water_purification     0.540560\n",
       "30              terrace     0.482982\n",
       "60                hedge     0.480753\n",
       "47              biomass     0.476438\n",
       "55      solar_collector     0.419064\n",
       "32          usable_room     0.247211\n",
       "29     separate_kitchen     0.241174\n",
       "24               garden     0.190638\n",
       "19              balcony     0.135484\n",
       "31           two_storey     0.041893\n",
       "73        soft_surfaced     0.000000\n",
       "22            furniture     0.000000\n",
       "26                 lift     0.000000\n",
       "25              heating     0.000000\n",
       "68         open_terrain     0.000000\n",
       "21             elevator     0.000000\n",
       "17       asphalt_access     0.000000\n",
       "27              parking     0.000000"
      ]
     },
     "metadata": {},
     "output_type": "display_data"
    }
   ],
   "source": [
    "featImportances()"
   ]
  },
  {
   "cell_type": "code",
   "execution_count": 13,
   "metadata": {},
   "outputs": [],
   "source": [
    "most_valuable_features = feature_importance_df.head(20)"
   ]
  },
  {
   "cell_type": "markdown",
   "metadata": {},
   "source": [
    "Dwadzieścia cech, wraz z ich wskaźnikiem istotności, których wartości obserwacji najśilniej wpływają na predykcję wykonywana przez model. "
   ]
  },
  {
   "cell_type": "code",
   "execution_count": 15,
   "metadata": {},
   "outputs": [
    {
     "data": {
      "text/plain": [
       "<matplotlib.axes._subplots.AxesSubplot at 0x12119a09788>"
      ]
     },
     "metadata": {},
     "output_type": "display_data"
    },
    {
     "data": {
      "image/png": "[encoded data removed]",
      "text/plain": [
       "<Figure size 432x720 with 1 Axes>"
      ]
     },
     "metadata": {
      "image/png": {
       "height": 577,
       "width": 469
      },
      "needs_background": "light"
     },
     "output_type": "display_data"
    }
   ],
   "source": [
    "valuableFeaturesPlot()"
   ]
  },
  {
   "cell_type": "code",
   "execution_count": 16,
   "metadata": {},
   "outputs": [],
   "source": [
    "most_useless_features = feature_importance_df.tail(20)"
   ]
  },
  {
   "cell_type": "code",
   "execution_count": 18,
   "metadata": {},
   "outputs": [
    {
     "data": {
      "text/plain": [
       "<matplotlib.axes._subplots.AxesSubplot at 0x1211fcb3208>"
      ]
     },
     "metadata": {},
     "output_type": "display_data"
    },
    {
     "data": {
      "image/png": "[encoded data removed]",
      "text/plain": [
       "<Figure size 432x720 with 1 Axes>"
      ]
     },
     "metadata": {
      "image/png": {
       "height": 577,
       "width": 460
      },
      "needs_background": "light"
     },
     "output_type": "display_data"
    }
   ],
   "source": [
    "uselessFeaturesPlot()"
   ]
  },
  {
   "cell_type": "markdown",
   "metadata": {},
   "source": [
    "Jak widać na powyższym histogramie nie wszystkie zmienne w naszym modelu wpływają na wartość predykcji. Rozsądnym rozwiązaniem jest usunięcie kolumn z zerową ważnością dla modelu (nadmiarowe kolumny niepotrzebnie zwiększają rozmiar zbiorów treningowych i testowych). "
   ]
  },
  {
   "cell_type": "markdown",
   "metadata": {},
   "source": [
    "# Wpływ zmiany wartości cechy na predykcję"
   ]
  },
  {
   "cell_type": "markdown",
   "metadata": {},
   "source": [
    "Dzięki wskaźnikowi istotności omawianemu powyżej znamy ranking istotności cech w modelu. Jednak wynik punktowy wskaźnika,\n",
    "słabo wizualizuje faktyczny wpływ zmiany wartości poszczególnych cech na wartość predykcji. \n",
    "W celu zwizalizowania wpływu zmiany wartości poszczególnych cech na predykcje wyznaczane przez model,\n",
    "skonstruowaliśmy funkcję, umożliwiającą wybranie interesującej nas zmiennej, jak i zadeklarowanie zupełnie nowej wartości tej cechy, (przy pozostałych wartościach cech stałych). Funkcja ma za zadanie wizualizacje zmiany w poziomie predykcji w zależności od nowej wartości wybranej cechy."
   ]
  },
  {
   "cell_type": "code",
   "execution_count": 19,
   "metadata": {
    "scrolled": true
   },
   "outputs": [],
   "source": [
    "def get_prediction_difference(df, choosen_feat_label, new_feat_value):\n",
    "    \n",
    "    \"\"\"Ta funkcja ma za zadanie pokazanie różnicy w poziomie predykcji dokonanej przez nasz model,\n",
    "        w zależności od zmiany wartości jednej cechy (wszystkie pozostałe cechy są stałe)\"\"\"\n",
    "    \n",
    "    if choosen_feat_label in df.columns:\n",
    "        # losowe wybranie wiersza z danego data framu\n",
    "        selected_row = df.sample()\n",
    "        # zapisanie tego samego wiersza też w drugiej zmiennej bo jedną zmieniamy a drugą zostawiamy niezmienioną\n",
    "        unchanged_row = selected_row.copy(deep=True)\n",
    "        # zapisanie oryginalnej wartości wybranej zmiennej\n",
    "        original_feat_value = unchanged_row[choosen_feat_label].values[0]\n",
    "        # wybranie zmiennej wskazanej przez usera i przypisanie jej nowej wartości\n",
    "        selected_row[choosen_feat_label].replace(to_replace=original_feat_value,\n",
    "                                                 value=new_feat_value, inplace=True)\n",
    "        # wykonanie predykcji\n",
    "        # dla zmienionego wiersza\n",
    "        selected_row_pred = np.expm1(model_xgb.predict(selected_row)[0])\n",
    "        # dla niezmienionego wiersza (unchanged_row_pred = cena - predykowana)\n",
    "        unchanged_row_pred = np.expm1(model_xgb.predict(unchanged_row)[0])\n",
    "        # obliczenie różnicy w poziomie predykcji\n",
    "        diff_in_pred = abs(unchanged_row_pred - selected_row_pred)\n",
    "        # Spakowanie wszystkiego do data frame\n",
    "        unchanged_data = {'status': 'unchanged',\n",
    "                          choosen_feat_label: original_feat_value,\n",
    "                          'predicted_price': format(unchanged_row_pred, '.2f')}\n",
    "        \n",
    "        changed_data = {'status': 'changed',\n",
    "                         choosen_feat_label: new_feat_value,\n",
    "                        'predicted_price': format(selected_row_pred, '.2f')}\n",
    "        \n",
    "        result_df = pd.DataFrame(columns=['status', choosen_feat_label, 'predicted_price'],\n",
    "                                 data=[unchanged_data, changed_data])\n",
    "    else:\n",
    "        print(\"Nie ma takiej zmiennej w zbiorze walidacyjnym!\")\n",
    "    \n",
    "    # wyprintowanie różnicy w predykcji\n",
    "    print(f\"Absolutna różnica w poziomie predykcji zależna jedynie od zmiennej {choosen_feat_label} wynosi {format(diff_in_pred, '.2f')}zł.\")\n",
    "    \n",
    "    return result_df"
   ]
  },
  {
   "cell_type": "markdown",
   "metadata": {},
   "source": [
    "Poniższy przykład odnosi sie do zmiennej terrain_area reprezentującej wielkość działki należącej do sprzedawanej nieruchomości w metrach kwadratowych. Wartość wskaźnika tej zmiennej oscyluje w granicach dwójki, zatem jest to jedna z najważniejszych zmiennych w naszym modelu. W poniższej komórce obserwujemy znaczny wzrost wartości zmiennej terrain_area (ok. 10 000 m2), co wiąże się w tym przypadku ze wzrostem ceny nieruchomości o ponad 250 tys. złotych, co jest zgodne z oczekiwaniami przy tak znacznym przyroście powierzchni działki.  "
   ]
  },
  {
   "cell_type": "code",
   "execution_count": 27,
   "metadata": {},
   "outputs": [
    {
     "name": "stdout",
     "output_type": "stream",
     "text": [
      "Absolutna różnica w poziomie predykcji zależna jedynie od zmiennej terrain_area wynosi 260595.62zł.\n"
     ]
    },
    {
     "data": {
      "text/html": [
       "<div>\n",
       "<style scoped>\n",
       "    .dataframe tbody tr th:only-of-type {\n",
       "        vertical-align: middle;\n",
       "    }\n",
       "\n",
       "    .dataframe tbody tr th {\n",
       "        vertical-align: top;\n",
       "    }\n",
       "\n",
       "    .dataframe thead th {\n",
       "        text-align: right;\n",
       "    }\n",
       "</style>\n",
       "<table border=\"1\" class=\"dataframe\">\n",
       "  <thead>\n",
       "    <tr style=\"text-align: right;\">\n",
       "      <th></th>\n",
       "      <th>status</th>\n",
       "      <th>terrain_area</th>\n",
       "      <th>predicted_price</th>\n",
       "    </tr>\n",
       "  </thead>\n",
       "  <tbody>\n",
       "    <tr>\n",
       "      <th>0</th>\n",
       "      <td>unchanged</td>\n",
       "      <td>1118.0</td>\n",
       "      <td>476921.12</td>\n",
       "    </tr>\n",
       "    <tr>\n",
       "      <th>1</th>\n",
       "      <td>changed</td>\n",
       "      <td>10187.0</td>\n",
       "      <td>737516.75</td>\n",
       "    </tr>\n",
       "  </tbody>\n",
       "</table>\n",
       "</div>"
      ],
      "text/plain": [
       "      status  terrain_area predicted_price\n",
       "0  unchanged        1118.0       476921.12\n",
       "1    changed       10187.0       737516.75"
      ]
     },
     "metadata": {},
     "output_type": "display_data"
    }
   ],
   "source": [
    "firstDataChangeCell1()"
   ]
  },
  {
   "cell_type": "markdown",
   "metadata": {},
   "source": [
    "Kolejny przykład odnosi sie do zmiennej skonstruowanej przez nasz zespół na etapie feature engineering. Cecha closest_city zostaje wyliczona na podstawie danych - długości i szerokości geograficznej. Do obliczenia odległości od najbliższego miasta znajdującego się w pliku cities, wykorzystujemy te same dane dla miast w nim zawartych. Wartość zmiennej jest reprezentuje ogległość między nieruchomością a najbliższym miastem. Co ciekawe, skonstruowana w ten sposób zmienna znalazła się na piątym miejscu w rankingu wskaźnika istotności (co jest zgodne z intuicją - im dalej od miasta znajduję sie nieruchomość tym jej wartośc jest mniejsza, jest to oczywiście przybliżenie a nie ogólna zasada). W tym przypadku istotnośc została odzwierciedlona w wartości predykcji, której wartość, po manipulacji zmienną, zmalała o całe sto tysięcy złotych. "
   ]
  },
  {
   "cell_type": "code",
   "execution_count": 23,
   "metadata": {},
   "outputs": [
    {
     "name": "stdout",
     "output_type": "stream",
     "text": [
      "Absolutna różnica w poziomie predykcji zależna jedynie od zmiennej closest_city wynosi 102432.41zł.\n"
     ]
    },
    {
     "data": {
      "text/html": [
       "<div>\n",
       "<style scoped>\n",
       "    .dataframe tbody tr th:only-of-type {\n",
       "        vertical-align: middle;\n",
       "    }\n",
       "\n",
       "    .dataframe tbody tr th {\n",
       "        vertical-align: top;\n",
       "    }\n",
       "\n",
       "    .dataframe thead th {\n",
       "        text-align: right;\n",
       "    }\n",
       "</style>\n",
       "<table border=\"1\" class=\"dataframe\">\n",
       "  <thead>\n",
       "    <tr style=\"text-align: right;\">\n",
       "      <th></th>\n",
       "      <th>status</th>\n",
       "      <th>closest_city</th>\n",
       "      <th>predicted_price</th>\n",
       "    </tr>\n",
       "  </thead>\n",
       "  <tbody>\n",
       "    <tr>\n",
       "      <th>0</th>\n",
       "      <td>unchanged</td>\n",
       "      <td>17.550</td>\n",
       "      <td>432244.28</td>\n",
       "    </tr>\n",
       "    <tr>\n",
       "      <th>1</th>\n",
       "      <td>changed</td>\n",
       "      <td>98.056</td>\n",
       "      <td>329811.88</td>\n",
       "    </tr>\n",
       "  </tbody>\n",
       "</table>\n",
       "</div>"
      ],
      "text/plain": [
       "      status  closest_city predicted_price\n",
       "0  unchanged        17.550       432244.28\n",
       "1    changed        98.056       329811.88"
      ]
     },
     "metadata": {},
     "output_type": "display_data"
    }
   ],
   "source": [
    "secondDataChangeCell()"
   ]
  },
  {
   "cell_type": "markdown",
   "metadata": {},
   "source": [
    "W odróżnieniu od dwóch poprzednich cech, zmienna 'blacony', znajduje sie na końcu rankingu wskażnika istotności. Ma to swoje odzwierciedlenie w przykładzie poniżej, zgodnie z naszym modelem to czy badana (w tym przypadku) nieruchomosć ma balkon czy też nie, zmienia wartość jedynie o ok 200 złotych. Co ciekawe obecność balkonu (w tym przypadku) wpływa na spadek wartości predykcji. "
   ]
  },
  {
   "cell_type": "code",
   "execution_count": 25,
   "metadata": {},
   "outputs": [
    {
     "name": "stdout",
     "output_type": "stream",
     "text": [
      "Absolutna różnica w poziomie predykcji zależna jedynie od zmiennej balcony wynosi 204.22zł.\n"
     ]
    },
    {
     "data": {
      "text/html": [
       "<div>\n",
       "<style scoped>\n",
       "    .dataframe tbody tr th:only-of-type {\n",
       "        vertical-align: middle;\n",
       "    }\n",
       "\n",
       "    .dataframe tbody tr th {\n",
       "        vertical-align: top;\n",
       "    }\n",
       "\n",
       "    .dataframe thead th {\n",
       "        text-align: right;\n",
       "    }\n",
       "</style>\n",
       "<table border=\"1\" class=\"dataframe\">\n",
       "  <thead>\n",
       "    <tr style=\"text-align: right;\">\n",
       "      <th></th>\n",
       "      <th>status</th>\n",
       "      <th>balcony</th>\n",
       "      <th>predicted_price</th>\n",
       "    </tr>\n",
       "  </thead>\n",
       "  <tbody>\n",
       "    <tr>\n",
       "      <th>0</th>\n",
       "      <td>unchanged</td>\n",
       "      <td>0</td>\n",
       "      <td>445281.00</td>\n",
       "    </tr>\n",
       "    <tr>\n",
       "      <th>1</th>\n",
       "      <td>changed</td>\n",
       "      <td>1</td>\n",
       "      <td>445076.78</td>\n",
       "    </tr>\n",
       "  </tbody>\n",
       "</table>\n",
       "</div>"
      ],
      "text/plain": [
       "      status  balcony predicted_price\n",
       "0  unchanged        0       445281.00\n",
       "1    changed        1       445076.78"
      ]
     },
     "metadata": {},
     "output_type": "display_data"
    }
   ],
   "source": [
    "thirdDataChangeCell()"
   ]
  },
  {
   "cell_type": "markdown",
   "metadata": {},
   "source": [
    "# Porównanie dwóch ogłoszeń w kategorii domy"
   ]
  },
  {
   "cell_type": "raw",
   "metadata": {
    "scrolled": true
   },
   "source": [
    "test_d.loc[test_d['id'] == 641346.0]"
   ]
  },
  {
   "cell_type": "raw",
   "metadata": {},
   "source": [
    "test_d.loc[test_d['id'] == 250604.0]"
   ]
  },
  {
   "cell_type": "code",
   "execution_count": 178,
   "metadata": {},
   "outputs": [
    {
     "data": {
      "text/html": [
       "<div>\n",
       "<style scoped>\n",
       "    .dataframe tbody tr th:only-of-type {\n",
       "        vertical-align: middle;\n",
       "    }\n",
       "\n",
       "    .dataframe tbody tr th {\n",
       "        vertical-align: top;\n",
       "    }\n",
       "\n",
       "    .dataframe thead th {\n",
       "        text-align: right;\n",
       "    }\n",
       "</style>\n",
       "<table border=\"1\" class=\"dataframe\">\n",
       "  <thead>\n",
       "    <tr style=\"text-align: right;\">\n",
       "      <th></th>\n",
       "      <th>id</th>\n",
       "      <th>price</th>\n",
       "    </tr>\n",
       "  </thead>\n",
       "  <tbody>\n",
       "    <tr>\n",
       "      <th>111267</th>\n",
       "      <td>641346</td>\n",
       "      <td>362128.44</td>\n",
       "    </tr>\n",
       "  </tbody>\n",
       "</table>\n",
       "</div>"
      ],
      "text/plain": [
       "            id      price\n",
       "111267  641346  362128.44"
      ]
     },
     "execution_count": 178,
     "metadata": {},
     "output_type": "execute_result"
    }
   ],
   "source": [
    "sub.loc[sub['id'] == 641346.0]"
   ]
  },
  {
   "cell_type": "code",
   "execution_count": 179,
   "metadata": {},
   "outputs": [
    {
     "data": {
      "text/html": [
       "<div>\n",
       "<style scoped>\n",
       "    .dataframe tbody tr th:only-of-type {\n",
       "        vertical-align: middle;\n",
       "    }\n",
       "\n",
       "    .dataframe tbody tr th {\n",
       "        vertical-align: top;\n",
       "    }\n",
       "\n",
       "    .dataframe thead th {\n",
       "        text-align: right;\n",
       "    }\n",
       "</style>\n",
       "<table border=\"1\" class=\"dataframe\">\n",
       "  <thead>\n",
       "    <tr style=\"text-align: right;\">\n",
       "      <th></th>\n",
       "      <th>id</th>\n",
       "      <th>price</th>\n",
       "    </tr>\n",
       "  </thead>\n",
       "  <tbody>\n",
       "    <tr>\n",
       "      <th>111251</th>\n",
       "      <td>250604</td>\n",
       "      <td>905517.4</td>\n",
       "    </tr>\n",
       "  </tbody>\n",
       "</table>\n",
       "</div>"
      ],
      "text/plain": [
       "            id     price\n",
       "111251  250604  905517.4"
      ]
     },
     "execution_count": 179,
     "metadata": {},
     "output_type": "execute_result"
    }
   ],
   "source": [
    "sub.loc[sub['id'] == 250604.0]"
   ]
  },
  {
   "cell_type": "markdown",
   "metadata": {},
   "source": [
    "Cecha 'm', 'rooms_num', 'alarm', 'construction_status' oraz 'closest_city' są 5 cechami, które najbardziej wpływają na model. Można to zauważyć to na przykładzie powyżej zaprezentowany. \n",
    "\n",
    "Mieszkanie o przewidzianej cenie 362128.44 zł posiada powierzchnię o 168 metrach kwadratowych, posiada 6 pokoi, nie posiada alarmu, jego status jest określany jako 'do renowacji' oraz jest oddalony od nabliższego dużego miasta o 35.31 km. \n",
    "\n",
    "Cena drugiego mieszkania została przewidziana na 905517.4 zł. Metrarz wynosi 264 m2, posiada tylko 4 pokoje, nie posiada alarmu ale jest gotowy do użytku oraz znajduje się niecałe 20 km od najbliższego dużego miasta.\n",
    "\n",
    "Z powyższych przykładów wnioskować można, iż znacząca różnica w cenach jest uargumentowana informacjami w modelu."
   ]
  },
  {
   "cell_type": "markdown",
   "metadata": {},
   "source": [
    "# Wnioski"
   ]
  },
  {
   "cell_type": "markdown",
   "metadata": {},
   "source": [
    "Według nas cały proces został przeprowadzony w dość ciekawy i niebanalny sposób. Zaznaczając, iż jest to pierwsza próba predykowania cen (dla całego zespołu), wynik również jest satysfakcjonujący. \n",
    "\n",
    "Nowe zmienne stworzone podczas etapu 'feature engineering' poprawiały model w znacznym stopniu co również pokazuje kreatywność zespołu. Zabrakło napewno czasu na dołożenie dodatkowych starań w konkursie, lecz jest to już kwestia indywidualna. \n",
    "\n",
    "Sprawdziliśmy wiele podejść i metodą prób oraz błędów, w procesie nauki, doszliśmy do zadowalających wyników. Próbę oceniamy na pożądną czwórkę. W procesie nauki doszliśmy do momentu, w którym byliśmy w stanie określić, który model będzie tym odpowiednim do opisania i da najlepsze wyniki. Próba powiodła się, ponieważ wybrany model końcowy nie dawał najlepszych wyników w 'Public Leaderboard', aczkolwiek już w 'Private Leaderboard' udało nam się przeskoczyć o miejsce wyżej oraz osiągnąć lepsze wyniki o ok. 5 tys. Ostatecznie wybrany model okazał się dawać również najlepsze wyniki w 'Private Leaderboard' ze wszystkich modeli, których podjęta została próbę wrzucenia na kaggle.  \n",
    "\n",
    "Liczymy, że cały opis jest zrozumiały. W razie wątpliwości jesteśmy do dyspozycji. \n",
    "\n",
    "Kontakt: \n",
    "\n",
    "1. damian.klimarczyk@gmail.com\n",
    "2. oskar.dolzkiewicz@gmail.com"
   ]
  }
 ],
 "metadata": {
  "kernelspec": {
   "display_name": "Python 3",
   "language": "python",
   "name": "python3"
  },
  "language_info": {
   "codemirror_mode": {
    "name": "ipython",
    "version": 3
   },
   "file_extension": ".py",
   "mimetype": "text/x-python",
   "name": "python",
   "nbconvert_exporter": "python",
   "pygments_lexer": "ipython3",
   "version": "3.7.4"
  }
 },
 "nbformat": 4,
 "nbformat_minor": 4
}
